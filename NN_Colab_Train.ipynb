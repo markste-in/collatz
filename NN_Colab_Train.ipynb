{
  "nbformat": 4,
  "nbformat_minor": 0,
  "metadata": {
    "colab": {
      "name": "Copy of collatz.ipynb",
      "provenance": [],
      "collapsed_sections": [],
      "authorship_tag": "ABX9TyN6HbfgMAxxIXh1IXjxuTBb",
      "include_colab_link": true
    },
    "kernelspec": {
      "name": "python3",
      "display_name": "Python 3"
    },
    "language_info": {
      "name": "python"
    },
    "accelerator": "GPU"
  },
  "cells": [
    {
      "cell_type": "markdown",
      "metadata": {
        "id": "view-in-github",
        "colab_type": "text"
      },
      "source": [
        "<a href=\"https://colab.research.google.com/github/markste-in/collatz/blob/main/NN_Colab_Train.ipynb\" target=\"_parent\"><img src=\"https://colab.research.google.com/assets/colab-badge.svg\" alt=\"Open In Colab\"/></a>"
      ]
    },
    {
      "cell_type": "code",
      "metadata": {
        "id": "T_tDc-oMEY22",
        "colab": {
          "base_uri": "https://localhost:8080/"
        },
        "outputId": "e23ff6fb-06a5-4dd1-bf67-2b1f452858ae"
      },
      "source": [
        "from google.colab import drive\n",
        "drive.mount('/content/gdrive')"
      ],
      "execution_count": 1,
      "outputs": [
        {
          "output_type": "stream",
          "text": [
            "Mounted at /content/gdrive\n"
          ],
          "name": "stdout"
        }
      ]
    },
    {
      "cell_type": "code",
      "metadata": {
        "id": "C1W7RaNJ_MGs"
      },
      "source": [
        "import torch\n",
        "import torch.nn as nn\n",
        "import torch.nn.functional as F\n",
        "import matplotlib.pyplot as plt\n",
        "import tqdm"
      ],
      "execution_count": 2,
      "outputs": []
    },
    {
      "cell_type": "code",
      "metadata": {
        "colab": {
          "base_uri": "https://localhost:8080/"
        },
        "id": "FBosOAs6PUdt",
        "outputId": "7a4580ff-3d3e-45b4-b73a-8c0809f2c8f6"
      },
      "source": [
        "device = torch.device('cuda' if torch.cuda.is_available() else 'cpu')\n",
        "print(\"Working with\",device)"
      ],
      "execution_count": 3,
      "outputs": [
        {
          "output_type": "stream",
          "text": [
            "Working with cuda\n"
          ],
          "name": "stdout"
        }
      ]
    },
    {
      "cell_type": "code",
      "metadata": {
        "id": "tAicuAeAD760"
      },
      "source": [
        "class NN(nn.Module):\n",
        "\n",
        "    def __init__(self):\n",
        "        super().__init__()\n",
        "\n",
        "        self.fc1 = nn.Linear(1,800)\n",
        "        self.b1 = nn.BatchNorm1d(800)\n",
        "        self.fc2 = nn.Linear(800,800)\n",
        "        self.b22 = nn.BatchNorm1d(800)\n",
        "        self.fc22 = nn.Linear(800,400)\n",
        "        self.b2 = nn.BatchNorm1d(400)\n",
        "        self.fc3 = nn.Linear(400, 1)\n",
        "\n",
        "    def forward(self,x):\n",
        "        x = F.relu(self.fc1(x))\n",
        "        x = self.b1(x)\n",
        "        x = F.relu(self.fc2(x))\n",
        "        x = self.b22(x)\n",
        "        x = F.relu(self.fc22(x ))\n",
        "        x = self.b2(x)\n",
        "        x = self.fc3(x)\n",
        "\n",
        "        return x\n",
        "\n",
        "def collatz_iter(n : int) -> int:\n",
        "    iter = 0\n",
        "    while (n>1):\n",
        "        if n%2 == 0:\n",
        "            n =n / 2\n",
        "        else:\n",
        "            n = n*3+1\n",
        "        iter+=1\n",
        "    return iter\n"
      ],
      "execution_count": 4,
      "outputs": []
    },
    {
      "cell_type": "code",
      "metadata": {
        "id": "zxCU7KFRMzy_"
      },
      "source": [
        "PATH =  \"gdrive/MyDrive/collatz_model.pt\""
      ],
      "execution_count": 5,
      "outputs": []
    },
    {
      "cell_type": "code",
      "metadata": {
        "id": "7aiAGAd7_Or3"
      },
      "source": [
        "batch_size = 320\n",
        "model = NN().to(device)\n",
        "opt = torch.optim.Adam(params=model.parameters(),lr = 0.1)\n",
        "losses = list()\n"
      ],
      "execution_count": 6,
      "outputs": []
    },
    {
      "cell_type": "code",
      "metadata": {
        "colab": {
          "base_uri": "https://localhost:8080/"
        },
        "id": "6aIxWz8N_QSf",
        "outputId": "c6f03d30-9918-4084-91ad-bf9c03a691c0"
      },
      "source": [
        "try:\n",
        "  model.load_state_dict(torch.load(PATH,map_location=torch.device(device)))\n",
        "  print(\"Previous model loaded\")\n",
        "except:\n",
        "  print(\"No old model found. Train from scratch\")"
      ],
      "execution_count": 7,
      "outputs": [
        {
          "output_type": "stream",
          "text": [
            "Previous model loaded\n"
          ],
          "name": "stdout"
        }
      ]
    },
    {
      "cell_type": "code",
      "metadata": {
        "colab": {
          "base_uri": "https://localhost:8080/"
        },
        "id": "aJwdggGRFJHs",
        "outputId": "336178cc-bc38-464f-8692-76682f1c4b28"
      },
      "source": [
        "for i in tqdm.tqdm(range(300000)):\n",
        "    x = torch.randint(1, 1000000000000000, (batch_size, 1))\n",
        "    y = x.clone().float().apply_(collatz_iter).to(device)\n",
        "    x = x.float().to(device)\n",
        "\n",
        "    opt.zero_grad()\n",
        "    pred = model(x)\n",
        "    loss = ((y-pred)**2).sum()\n",
        "    loss.backward()\n",
        "    losses.append(loss.cpu().detach().numpy())\n",
        "    opt.step()\n",
        "    if i%500 ==0:\n",
        "      torch.save(model.state_dict(), PATH)"
      ],
      "execution_count": null,
      "outputs": [
        {
          "output_type": "stream",
          "text": [
            " 91%|█████████ | 273166/300000 [1:22:58<08:13, 54.36it/s]"
          ],
          "name": "stderr"
        }
      ]
    },
    {
      "cell_type": "code",
      "metadata": {
        "id": "M0nQRSqJ_RzZ"
      },
      "source": [
        "plt.plot(losses)\n",
        "#plt.yscale(\"log\")\n",
        "plt.show()"
      ],
      "execution_count": null,
      "outputs": []
    },
    {
      "cell_type": "code",
      "metadata": {
        "id": "lejec7wK_ScM"
      },
      "source": [
        "max(losses)"
      ],
      "execution_count": null,
      "outputs": []
    },
    {
      "cell_type": "code",
      "metadata": {
        "id": "K86tmLbniVvB"
      },
      "source": [
        ""
      ],
      "execution_count": null,
      "outputs": []
    }
  ]
}
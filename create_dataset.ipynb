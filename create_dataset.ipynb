{
  "nbformat": 4,
  "nbformat_minor": 5,
  "metadata": {
    "kernelspec": {
      "display_name": "Python 3",
      "language": "python",
      "name": "python3"
    },
    "language_info": {
      "codemirror_mode": {
        "name": "ipython",
        "version": 3
      },
      "file_extension": ".py",
      "mimetype": "text/x-python",
      "name": "python",
      "nbconvert_exporter": "python",
      "pygments_lexer": "ipython3",
      "version": "3.8.5"
    },
    "colab": {
      "name": "create_dataset.ipynb",
      "provenance": [],
      "include_colab_link": true
    }
  },
  "cells": [
    {
      "cell_type": "markdown",
      "metadata": {
        "id": "view-in-github",
        "colab_type": "text"
      },
      "source": [
        "<a href=\"https://colab.research.google.com/github/markste-in/collatz/blob/main/create_dataset.ipynb\" target=\"_parent\"><img src=\"https://colab.research.google.com/assets/colab-badge.svg\" alt=\"Open In Colab\"/></a>"
      ]
    },
    {
      "cell_type": "code",
      "metadata": {
        "id": "uI7ekPDHZutC"
      },
      "source": [
        "!pip install ray &> /dev/null\n",
        "!pip install \"ray[default]\" &> /dev/null"
      ],
      "id": "uI7ekPDHZutC",
      "execution_count": 1,
      "outputs": []
    },
    {
      "cell_type": "code",
      "metadata": {
        "colab": {
          "base_uri": "https://localhost:8080/"
        },
        "id": "MbT_2C0WaGFL",
        "outputId": "90afe198-5ef3-4699-9c88-9b95334567d9"
      },
      "source": [
        "from google.colab import drive\n",
        "drive.mount('/content/gdrive')"
      ],
      "id": "MbT_2C0WaGFL",
      "execution_count": 2,
      "outputs": [
        {
          "output_type": "stream",
          "text": [
            "Drive already mounted at /content/gdrive; to attempt to forcibly remount, call drive.mount(\"/content/gdrive\", force_remount=True).\n"
          ],
          "name": "stdout"
        }
      ]
    },
    {
      "cell_type": "code",
      "metadata": {
        "id": "chicken-optimization"
      },
      "source": [
        "import pandas as pd\n",
        "import numpy as np\n",
        "import sympy\n",
        "from sympy.ntheory import factorint\n",
        "import ray\n",
        "import psutil\n",
        "import time\n",
        "import os"
      ],
      "id": "chicken-optimization",
      "execution_count": 3,
      "outputs": []
    },
    {
      "cell_type": "code",
      "metadata": {
        "colab": {
          "base_uri": "https://localhost:8080/"
        },
        "id": "TOWISd_CczSE",
        "outputId": "a54305eb-2bf5-4d5e-9d3b-3747dbecb402"
      },
      "source": [
        "print(\"CPU Count:\", psutil.cpu_count())"
      ],
      "id": "TOWISd_CczSE",
      "execution_count": 4,
      "outputs": [
        {
          "output_type": "stream",
          "text": [
            "CPU Count: 2\n"
          ],
          "name": "stdout"
        }
      ]
    },
    {
      "cell_type": "code",
      "metadata": {
        "colab": {
          "base_uri": "https://localhost:8080/"
        },
        "id": "expected-croatia",
        "outputId": "ddc891cb-4c19-4fcf-88f4-20e5d6b01ec3"
      },
      "source": [
        "ray.init()"
      ],
      "id": "expected-croatia",
      "execution_count": 5,
      "outputs": [
        {
          "output_type": "stream",
          "text": [
            "2021-04-25 20:08:13,156\tINFO services.py:1269 -- View the Ray dashboard at \u001b[1m\u001b[32mhttp://127.0.0.1:8265\u001b[39m\u001b[22m\n"
          ],
          "name": "stderr"
        },
        {
          "output_type": "execute_result",
          "data": {
            "text/plain": [
              "{'metrics_export_port': 59251,\n",
              " 'node_id': 'de71d887aada7bda5f94715b5b477e5cf8c5cfe72a695685bf6c11f2',\n",
              " 'node_ip_address': '172.28.0.2',\n",
              " 'object_store_address': '/tmp/ray/session_2021-04-25_20-08-11_407437_2370/sockets/plasma_store',\n",
              " 'raylet_ip_address': '172.28.0.2',\n",
              " 'raylet_socket_name': '/tmp/ray/session_2021-04-25_20-08-11_407437_2370/sockets/raylet',\n",
              " 'redis_address': '172.28.0.2:6379',\n",
              " 'session_dir': '/tmp/ray/session_2021-04-25_20-08-11_407437_2370',\n",
              " 'webui_url': '127.0.0.1:8265'}"
            ]
          },
          "metadata": {
            "tags": []
          },
          "execution_count": 5
        }
      ]
    },
    {
      "cell_type": "code",
      "metadata": {
        "id": "technological-sperm"
      },
      "source": [
        "def collatz_generator(n : int,as_sequence = True) -> int:\n",
        "#     if as_sequence:\n",
        "#         yield int(n)   \n",
        "    while (n>1):\n",
        "        if n%2 == 0: \n",
        "            _n =n / 2\n",
        "        else: \n",
        "            _n = n*3+1\n",
        "        if as_sequence:\n",
        "            yield int(n)        \n",
        "        else:\n",
        "            yield (int(n),int(_n))\n",
        "        n = _n\n",
        "    return"
      ],
      "id": "technological-sperm",
      "execution_count": 6,
      "outputs": []
    },
    {
      "cell_type": "code",
      "metadata": {
        "id": "becoming-september"
      },
      "source": [
        "header = [\"Number\", \n",
        "          \"Length\",\n",
        "          \"Max\", \n",
        "          \"IsEven\",\n",
        "          \"nPrimes\",\n",
        "          \"Smallest_Prime\",\n",
        "          \"nSmallest_Prim\",\n",
        "          \"Biggest_Prime\",\n",
        "          \"nBiggest_Prime\", \n",
        "          \"isPrime\"]\n",
        "\n",
        "def all_fancy_calculations(serie):\n",
        "        calculations = list()\n",
        "        num_in_question = serie[0]\n",
        "        fac_n = factorint(num_in_question)\n",
        "        \n",
        "        calculations.append(num_in_question)       # Starting number\n",
        "        calculations.append(len(serie))     # Length of series\n",
        "        calculations.append(max(serie))     # Max of number series\n",
        "        calculations.append(num_in_question%2 ==0) # Is even?\n",
        "        calculations.append(len(fac_n)) # how many primes\n",
        "        calculations.append(min(fac_n)) # smallest prime\n",
        "        calculations.append(fac_n[min(fac_n)]) # how often does the smallest prime appear\n",
        "        calculations.append(max(fac_n)) # biggest prime\n",
        "        calculations.append(fac_n[max(fac_n)]) # how often does the biggest prime appear\n",
        "        calculations.append(sympy.isprime(num_in_question)) #is prime?\n",
        "        \n",
        "        return calculations\n",
        "    "
      ],
      "id": "becoming-september",
      "execution_count": 7,
      "outputs": []
    },
    {
      "cell_type": "code",
      "metadata": {
        "id": "declared-throw"
      },
      "source": [
        "header_with_pre_and_post = [ pre+item for pre in [\"\",\"pre\",\"post\"] for item in header]\n",
        "SMALLEST_NUMBER = 3 # since we calculate the previous serie the smallest number is actually one smaller (should not go below 2 since the return value of the collatz could be an empty list)\n",
        "@ray.remote\n",
        "def create_random_dataset(nums,highest_number):\n",
        "    print(\"called with\", nums,highest_number)\n",
        "    cz_series = [[i for i in collatz_generator(j)] for j in np.random.randint(3,highest_number, nums)]\n",
        "    dataset = list()\n",
        "    for serie in cz_series:\n",
        "        previous_serie = [i for i in collatz_generator(serie[0]-1)] # Also calculate the previous serie\n",
        "        next_serie =  [i for i in collatz_generator(serie[0]+1)] #And also calculate tne next serie\n",
        "\n",
        "        all_calculations = list()\n",
        "        all_calculations = all_fancy_calculations(serie)\n",
        "        all_calculations.extend(all_fancy_calculations(previous_serie))\n",
        "        all_calculations.extend(all_fancy_calculations(next_serie))\n",
        "        dataset.append(all_calculations)\n",
        "        \n",
        "    return pd.DataFrame(dataset)"
      ],
      "id": "declared-throw",
      "execution_count": 8,
      "outputs": []
    },
    {
      "cell_type": "code",
      "metadata": {
        "id": "stunning-tooth"
      },
      "source": [
        "num_entries = int(1000)\n",
        "highest_number = int(1e12)\n",
        "num_jobs = 100\n",
        "assert highest_number>num_entries"
      ],
      "id": "stunning-tooth",
      "execution_count": 9,
      "outputs": []
    },
    {
      "cell_type": "code",
      "metadata": {
        "colab": {
          "base_uri": "https://localhost:8080/"
        },
        "id": "agricultural-landscape",
        "outputId": "09e15715-73df-49e1-cf41-2448e0928dba"
      },
      "source": [
        "print(\"Generate dataset with\", num_entries*num_jobs,\"entries\\n\\n\")\n",
        "for i in range(3):\n",
        "  # Generate job\n",
        "  results = [create_random_dataset.remote(num_entries,highest_number) for i in range(num_jobs)]\n",
        "\n",
        "  # Build data frame\n",
        "  dataframes = ray.get(results)\n",
        "  df = pd.concat(dataframes)\n",
        "  df.columns = header_with_pre_and_post\n",
        "\n",
        "  # Save dataframe\n",
        "  PATH = \"gdrive/MyDrive/collatz_dbs/\"\n",
        "  os.makedirs(PATH,exist_ok=True)\n",
        "  FILENAME = 'collatz_db_' + time.strftime(\"%Y%m%d-%H%M%S\") + '.parquet'\n",
        "  file = os.path.join(PATH,FILENAME)\n",
        "  df.to_parquet(file)"
      ],
      "id": "agricultural-landscape",
      "execution_count": 10,
      "outputs": [
        {
          "output_type": "stream",
          "text": [
            "Generate dataset with 100000 entries\n",
            "\n",
            "\n",
            "\u001b[2m\u001b[36m(pid=2549)\u001b[0m called with 1000 1000000000000\n",
            "\u001b[2m\u001b[36m(pid=2548)\u001b[0m called with 1000 1000000000000\n",
            "\u001b[2m\u001b[36m(pid=2549)\u001b[0m called with 1000 1000000000000\n",
            "\u001b[2m\u001b[36m(pid=2548)\u001b[0m called with 1000 1000000000000\n",
            "\u001b[2m\u001b[36m(pid=2548)\u001b[0m called with 1000 1000000000000\n",
            "\u001b[2m\u001b[36m(pid=2549)\u001b[0m called with 1000 1000000000000\n",
            "\u001b[2m\u001b[36m(pid=2548)\u001b[0m called with 1000 1000000000000\n",
            "\u001b[2m\u001b[36m(pid=2549)\u001b[0m called with 1000 1000000000000\n",
            "\u001b[2m\u001b[36m(pid=2548)\u001b[0m called with 1000 1000000000000\n",
            "\u001b[2m\u001b[36m(pid=2549)\u001b[0m called with 1000 1000000000000\n",
            "\u001b[2m\u001b[36m(pid=2548)\u001b[0m called with 1000 1000000000000\n",
            "\u001b[2m\u001b[36m(pid=2549)\u001b[0m called with 1000 1000000000000\n",
            "\u001b[2m\u001b[36m(pid=2548)\u001b[0m called with 1000 1000000000000\n",
            "\u001b[2m\u001b[36m(pid=2549)\u001b[0m called with 1000 1000000000000\n",
            "\u001b[2m\u001b[36m(pid=2548)\u001b[0m called with 1000 1000000000000\n",
            "\u001b[2m\u001b[36m(pid=2549)\u001b[0m called with 1000 1000000000000\n",
            "\u001b[2m\u001b[36m(pid=2548)\u001b[0m called with 1000 1000000000000\n",
            "\u001b[2m\u001b[36m(pid=2549)\u001b[0m called with 1000 1000000000000\n",
            "\u001b[2m\u001b[36m(pid=2548)\u001b[0m called with 1000 1000000000000\n",
            "\u001b[2m\u001b[36m(pid=2549)\u001b[0m called with 1000 1000000000000\n",
            "\u001b[2m\u001b[36m(pid=2548)\u001b[0m called with 1000 1000000000000\n",
            "\u001b[2m\u001b[36m(pid=2549)\u001b[0m called with 1000 1000000000000\n",
            "\u001b[2m\u001b[36m(pid=2548)\u001b[0m called with 1000 1000000000000\n",
            "\u001b[2m\u001b[36m(pid=2549)\u001b[0m called with 1000 1000000000000\n",
            "\u001b[2m\u001b[36m(pid=2548)\u001b[0m called with 1000 1000000000000\n",
            "\u001b[2m\u001b[36m(pid=2549)\u001b[0m called with 1000 1000000000000\n",
            "\u001b[2m\u001b[36m(pid=2548)\u001b[0m called with 1000 1000000000000\n",
            "\u001b[2m\u001b[36m(pid=2549)\u001b[0m called with 1000 1000000000000\n",
            "\u001b[2m\u001b[36m(pid=2548)\u001b[0m called with 1000 1000000000000\n",
            "\u001b[2m\u001b[36m(pid=2549)\u001b[0m called with 1000 1000000000000\n",
            "\u001b[2m\u001b[36m(pid=2548)\u001b[0m called with 1000 1000000000000\n",
            "\u001b[2m\u001b[36m(pid=2549)\u001b[0m called with 1000 1000000000000\n",
            "\u001b[2m\u001b[36m(pid=2548)\u001b[0m called with 1000 1000000000000\n",
            "\u001b[2m\u001b[36m(pid=2549)\u001b[0m called with 1000 1000000000000\n",
            "\u001b[2m\u001b[36m(pid=2549)\u001b[0m called with 1000 1000000000000\n",
            "\u001b[2m\u001b[36m(pid=2548)\u001b[0m called with 1000 1000000000000\n",
            "\u001b[2m\u001b[36m(pid=2549)\u001b[0m called with 1000 1000000000000\n",
            "\u001b[2m\u001b[36m(pid=2548)\u001b[0m called with 1000 1000000000000\n",
            "\u001b[2m\u001b[36m(pid=2549)\u001b[0m called with 1000 1000000000000\n",
            "\u001b[2m\u001b[36m(pid=2548)\u001b[0m called with 1000 1000000000000\n",
            "\u001b[2m\u001b[36m(pid=2548)\u001b[0m called with 1000 1000000000000\n",
            "\u001b[2m\u001b[36m(pid=2549)\u001b[0m called with 1000 1000000000000\n",
            "\u001b[2m\u001b[36m(pid=2549)\u001b[0m called with 1000 1000000000000\n",
            "\u001b[2m\u001b[36m(pid=2548)\u001b[0m called with 1000 1000000000000\n",
            "\u001b[2m\u001b[36m(pid=2549)\u001b[0m called with 1000 1000000000000\n",
            "\u001b[2m\u001b[36m(pid=2548)\u001b[0m called with 1000 1000000000000\n",
            "\u001b[2m\u001b[36m(pid=2548)\u001b[0m called with 1000 1000000000000\n",
            "\u001b[2m\u001b[36m(pid=2549)\u001b[0m called with 1000 1000000000000\n",
            "\u001b[2m\u001b[36m(pid=2548)\u001b[0m called with 1000 1000000000000\n",
            "\u001b[2m\u001b[36m(pid=2549)\u001b[0m called with 1000 1000000000000\n",
            "\u001b[2m\u001b[36m(pid=2548)\u001b[0m called with 1000 1000000000000\n",
            "\u001b[2m\u001b[36m(pid=2549)\u001b[0m called with 1000 1000000000000\n",
            "\u001b[2m\u001b[36m(pid=2548)\u001b[0m called with 1000 1000000000000\n",
            "\u001b[2m\u001b[36m(pid=2549)\u001b[0m called with 1000 1000000000000\n",
            "\u001b[2m\u001b[36m(pid=2549)\u001b[0m called with 1000 1000000000000\n",
            "\u001b[2m\u001b[36m(pid=2548)\u001b[0m called with 1000 1000000000000\n",
            "\u001b[2m\u001b[36m(pid=2549)\u001b[0m called with 1000 1000000000000\n",
            "\u001b[2m\u001b[36m(pid=2548)\u001b[0m called with 1000 1000000000000\n",
            "\u001b[2m\u001b[36m(pid=2549)\u001b[0m called with 1000 1000000000000\n",
            "\u001b[2m\u001b[36m(pid=2548)\u001b[0m called with 1000 1000000000000\n",
            "\u001b[2m\u001b[36m(pid=2549)\u001b[0m called with 1000 1000000000000\n",
            "\u001b[2m\u001b[36m(pid=2548)\u001b[0m called with 1000 1000000000000\n",
            "\u001b[2m\u001b[36m(pid=2549)\u001b[0m called with 1000 1000000000000\n",
            "\u001b[2m\u001b[36m(pid=2548)\u001b[0m called with 1000 1000000000000\n",
            "\u001b[2m\u001b[36m(pid=2549)\u001b[0m called with 1000 1000000000000\n",
            "\u001b[2m\u001b[36m(pid=2548)\u001b[0m called with 1000 1000000000000\n",
            "\u001b[2m\u001b[36m(pid=2548)\u001b[0m called with 1000 1000000000000\n",
            "\u001b[2m\u001b[36m(pid=2549)\u001b[0m called with 1000 1000000000000\n",
            "\u001b[2m\u001b[36m(pid=2549)\u001b[0m called with 1000 1000000000000\n",
            "\u001b[2m\u001b[36m(pid=2548)\u001b[0m called with 1000 1000000000000\n",
            "\u001b[2m\u001b[36m(pid=2548)\u001b[0m called with 1000 1000000000000\n",
            "\u001b[2m\u001b[36m(pid=2549)\u001b[0m called with 1000 1000000000000\n",
            "\u001b[2m\u001b[36m(pid=2548)\u001b[0m called with 1000 1000000000000\n",
            "\u001b[2m\u001b[36m(pid=2549)\u001b[0m called with 1000 1000000000000\n",
            "\u001b[2m\u001b[36m(pid=2548)\u001b[0m called with 1000 1000000000000\n",
            "\u001b[2m\u001b[36m(pid=2549)\u001b[0m called with 1000 1000000000000\n",
            "\u001b[2m\u001b[36m(pid=2548)\u001b[0m called with 1000 1000000000000\n",
            "\u001b[2m\u001b[36m(pid=2549)\u001b[0m called with 1000 1000000000000\n",
            "\u001b[2m\u001b[36m(pid=2548)\u001b[0m called with 1000 1000000000000\n",
            "\u001b[2m\u001b[36m(pid=2549)\u001b[0m called with 1000 1000000000000\n",
            "\u001b[2m\u001b[36m(pid=2548)\u001b[0m called with 1000 1000000000000\n",
            "\u001b[2m\u001b[36m(pid=2549)\u001b[0m called with 1000 1000000000000\n",
            "\u001b[2m\u001b[36m(pid=2549)\u001b[0m called with 1000 1000000000000\n",
            "\u001b[2m\u001b[36m(pid=2548)\u001b[0m called with 1000 1000000000000\n",
            "\u001b[2m\u001b[36m(pid=2549)\u001b[0m called with 1000 1000000000000\n",
            "\u001b[2m\u001b[36m(pid=2548)\u001b[0m called with 1000 1000000000000\n",
            "\u001b[2m\u001b[36m(pid=2549)\u001b[0m called with 1000 1000000000000\n",
            "\u001b[2m\u001b[36m(pid=2548)\u001b[0m called with 1000 1000000000000\n",
            "\u001b[2m\u001b[36m(pid=2549)\u001b[0m called with 1000 1000000000000\n",
            "\u001b[2m\u001b[36m(pid=2548)\u001b[0m called with 1000 1000000000000\n",
            "\u001b[2m\u001b[36m(pid=2549)\u001b[0m called with 1000 1000000000000\n",
            "\u001b[2m\u001b[36m(pid=2548)\u001b[0m called with 1000 1000000000000\n",
            "\u001b[2m\u001b[36m(pid=2549)\u001b[0m called with 1000 1000000000000\n",
            "\u001b[2m\u001b[36m(pid=2548)\u001b[0m called with 1000 1000000000000\n",
            "\u001b[2m\u001b[36m(pid=2549)\u001b[0m called with 1000 1000000000000\n",
            "\u001b[2m\u001b[36m(pid=2548)\u001b[0m called with 1000 1000000000000\n",
            "\u001b[2m\u001b[36m(pid=2549)\u001b[0m called with 1000 1000000000000\n",
            "\u001b[2m\u001b[36m(pid=2548)\u001b[0m called with 1000 1000000000000\n",
            "\u001b[2m\u001b[36m(pid=2549)\u001b[0m called with 1000 1000000000000\n",
            "\u001b[2m\u001b[36m(pid=2548)\u001b[0m called with 1000 1000000000000\n",
            "\u001b[2m\u001b[36m(pid=2549)\u001b[0m called with 1000 1000000000000\n",
            "\u001b[2m\u001b[36m(pid=2548)\u001b[0m called with 1000 1000000000000\n",
            "\u001b[2m\u001b[36m(pid=2549)\u001b[0m called with 1000 1000000000000\n",
            "\u001b[2m\u001b[36m(pid=2548)\u001b[0m called with 1000 1000000000000\n",
            "\u001b[2m\u001b[36m(pid=2548)\u001b[0m called with 1000 1000000000000\n",
            "\u001b[2m\u001b[36m(pid=2549)\u001b[0m called with 1000 1000000000000\n",
            "\u001b[2m\u001b[36m(pid=2548)\u001b[0m called with 1000 1000000000000\n",
            "\u001b[2m\u001b[36m(pid=2549)\u001b[0m called with 1000 1000000000000\n",
            "\u001b[2m\u001b[36m(pid=2548)\u001b[0m called with 1000 1000000000000\n",
            "\u001b[2m\u001b[36m(pid=2549)\u001b[0m called with 1000 1000000000000\n",
            "\u001b[2m\u001b[36m(pid=2548)\u001b[0m called with 1000 1000000000000\n",
            "\u001b[2m\u001b[36m(pid=2549)\u001b[0m called with 1000 1000000000000\n",
            "\u001b[2m\u001b[36m(pid=2548)\u001b[0m called with 1000 1000000000000\n",
            "\u001b[2m\u001b[36m(pid=2549)\u001b[0m called with 1000 1000000000000\n",
            "\u001b[2m\u001b[36m(pid=2548)\u001b[0m called with 1000 1000000000000\n",
            "\u001b[2m\u001b[36m(pid=2549)\u001b[0m called with 1000 1000000000000\n",
            "\u001b[2m\u001b[36m(pid=2548)\u001b[0m called with 1000 1000000000000\n",
            "\u001b[2m\u001b[36m(pid=2549)\u001b[0m called with 1000 1000000000000\n",
            "\u001b[2m\u001b[36m(pid=2548)\u001b[0m called with 1000 1000000000000\n",
            "\u001b[2m\u001b[36m(pid=2549)\u001b[0m called with 1000 1000000000000\n",
            "\u001b[2m\u001b[36m(pid=2548)\u001b[0m called with 1000 1000000000000\n",
            "\u001b[2m\u001b[36m(pid=2549)\u001b[0m called with 1000 1000000000000\n",
            "\u001b[2m\u001b[36m(pid=2548)\u001b[0m called with 1000 1000000000000\n",
            "\u001b[2m\u001b[36m(pid=2549)\u001b[0m called with 1000 1000000000000\n",
            "\u001b[2m\u001b[36m(pid=2548)\u001b[0m called with 1000 1000000000000\n",
            "\u001b[2m\u001b[36m(pid=2549)\u001b[0m called with 1000 1000000000000\n",
            "\u001b[2m\u001b[36m(pid=2548)\u001b[0m called with 1000 1000000000000\n",
            "\u001b[2m\u001b[36m(pid=2549)\u001b[0m called with 1000 1000000000000\n",
            "\u001b[2m\u001b[36m(pid=2548)\u001b[0m called with 1000 1000000000000\n",
            "\u001b[2m\u001b[36m(pid=2549)\u001b[0m called with 1000 1000000000000\n",
            "\u001b[2m\u001b[36m(pid=2548)\u001b[0m called with 1000 1000000000000\n",
            "\u001b[2m\u001b[36m(pid=2549)\u001b[0m called with 1000 1000000000000\n",
            "\u001b[2m\u001b[36m(pid=2548)\u001b[0m called with 1000 1000000000000\n",
            "\u001b[2m\u001b[36m(pid=2549)\u001b[0m called with 1000 1000000000000\n",
            "\u001b[2m\u001b[36m(pid=2548)\u001b[0m called with 1000 1000000000000\n",
            "\u001b[2m\u001b[36m(pid=2549)\u001b[0m called with 1000 1000000000000\n",
            "\u001b[2m\u001b[36m(pid=2548)\u001b[0m called with 1000 1000000000000\n",
            "\u001b[2m\u001b[36m(pid=2549)\u001b[0m called with 1000 1000000000000\n",
            "\u001b[2m\u001b[36m(pid=2548)\u001b[0m called with 1000 1000000000000\n",
            "\u001b[2m\u001b[36m(pid=2549)\u001b[0m called with 1000 1000000000000\n",
            "\u001b[2m\u001b[36m(pid=2548)\u001b[0m called with 1000 1000000000000\n",
            "\u001b[2m\u001b[36m(pid=2549)\u001b[0m called with 1000 1000000000000\n",
            "\u001b[2m\u001b[36m(pid=2548)\u001b[0m called with 1000 1000000000000\n",
            "\u001b[2m\u001b[36m(pid=2549)\u001b[0m called with 1000 1000000000000\n",
            "\u001b[2m\u001b[36m(pid=2549)\u001b[0m called with 1000 1000000000000\n",
            "\u001b[2m\u001b[36m(pid=2548)\u001b[0m called with 1000 1000000000000\n",
            "\u001b[2m\u001b[36m(pid=2549)\u001b[0m called with 1000 1000000000000\n",
            "\u001b[2m\u001b[36m(pid=2548)\u001b[0m called with 1000 1000000000000\n",
            "\u001b[2m\u001b[36m(pid=2549)\u001b[0m called with 1000 1000000000000\n",
            "\u001b[2m\u001b[36m(pid=2548)\u001b[0m called with 1000 1000000000000\n",
            "\u001b[2m\u001b[36m(pid=2549)\u001b[0m called with 1000 1000000000000\n",
            "\u001b[2m\u001b[36m(pid=2548)\u001b[0m called with 1000 1000000000000\n",
            "\u001b[2m\u001b[36m(pid=2549)\u001b[0m called with 1000 1000000000000\n",
            "\u001b[2m\u001b[36m(pid=2548)\u001b[0m called with 1000 1000000000000\n",
            "\u001b[2m\u001b[36m(pid=2549)\u001b[0m called with 1000 1000000000000\n",
            "\u001b[2m\u001b[36m(pid=2548)\u001b[0m called with 1000 1000000000000\n",
            "\u001b[2m\u001b[36m(pid=2549)\u001b[0m called with 1000 1000000000000\n",
            "\u001b[2m\u001b[36m(pid=2548)\u001b[0m called with 1000 1000000000000\n",
            "\u001b[2m\u001b[36m(pid=2548)\u001b[0m called with 1000 1000000000000\n",
            "\u001b[2m\u001b[36m(pid=2549)\u001b[0m called with 1000 1000000000000\n",
            "\u001b[2m\u001b[36m(pid=2548)\u001b[0m called with 1000 1000000000000\n",
            "\u001b[2m\u001b[36m(pid=2549)\u001b[0m called with 1000 1000000000000\n",
            "\u001b[2m\u001b[36m(pid=2548)\u001b[0m called with 1000 1000000000000\n",
            "\u001b[2m\u001b[36m(pid=2549)\u001b[0m called with 1000 1000000000000\n",
            "\u001b[2m\u001b[36m(pid=2548)\u001b[0m called with 1000 1000000000000\n",
            "\u001b[2m\u001b[36m(pid=2549)\u001b[0m called with 1000 1000000000000\n",
            "\u001b[2m\u001b[36m(pid=2548)\u001b[0m called with 1000 1000000000000\n",
            "\u001b[2m\u001b[36m(pid=2549)\u001b[0m called with 1000 1000000000000\n",
            "\u001b[2m\u001b[36m(pid=2548)\u001b[0m called with 1000 1000000000000\n",
            "\u001b[2m\u001b[36m(pid=2549)\u001b[0m called with 1000 1000000000000\n",
            "\u001b[2m\u001b[36m(pid=2548)\u001b[0m called with 1000 1000000000000\n",
            "\u001b[2m\u001b[36m(pid=2549)\u001b[0m called with 1000 1000000000000\n",
            "\u001b[2m\u001b[36m(pid=2548)\u001b[0m called with 1000 1000000000000\n",
            "\u001b[2m\u001b[36m(pid=2549)\u001b[0m called with 1000 1000000000000\n",
            "\u001b[2m\u001b[36m(pid=2548)\u001b[0m called with 1000 1000000000000\n",
            "\u001b[2m\u001b[36m(pid=2549)\u001b[0m called with 1000 1000000000000\n",
            "\u001b[2m\u001b[36m(pid=2548)\u001b[0m called with 1000 1000000000000\n",
            "\u001b[2m\u001b[36m(pid=2549)\u001b[0m called with 1000 1000000000000\n",
            "\u001b[2m\u001b[36m(pid=2548)\u001b[0m called with 1000 1000000000000\n",
            "\u001b[2m\u001b[36m(pid=2549)\u001b[0m called with 1000 1000000000000\n",
            "\u001b[2m\u001b[36m(pid=2548)\u001b[0m called with 1000 1000000000000\n",
            "\u001b[2m\u001b[36m(pid=2549)\u001b[0m called with 1000 1000000000000\n",
            "\u001b[2m\u001b[36m(pid=2548)\u001b[0m called with 1000 1000000000000\n",
            "\u001b[2m\u001b[36m(pid=2549)\u001b[0m called with 1000 1000000000000\n",
            "\u001b[2m\u001b[36m(pid=2548)\u001b[0m called with 1000 1000000000000\n",
            "\u001b[2m\u001b[36m(pid=2549)\u001b[0m called with 1000 1000000000000\n",
            "\u001b[2m\u001b[36m(pid=2548)\u001b[0m called with 1000 1000000000000\n",
            "\u001b[2m\u001b[36m(pid=2549)\u001b[0m called with 1000 1000000000000\n",
            "\u001b[2m\u001b[36m(pid=2548)\u001b[0m called with 1000 1000000000000\n",
            "\u001b[2m\u001b[36m(pid=2549)\u001b[0m called with 1000 1000000000000\n",
            "\u001b[2m\u001b[36m(pid=2548)\u001b[0m called with 1000 1000000000000\n",
            "\u001b[2m\u001b[36m(pid=2549)\u001b[0m called with 1000 1000000000000\n",
            "\u001b[2m\u001b[36m(pid=2548)\u001b[0m called with 1000 1000000000000\n",
            "\u001b[2m\u001b[36m(pid=2549)\u001b[0m called with 1000 1000000000000\n",
            "\u001b[2m\u001b[36m(pid=2548)\u001b[0m called with 1000 1000000000000\n",
            "\u001b[2m\u001b[36m(pid=2549)\u001b[0m called with 1000 1000000000000\n",
            "\u001b[2m\u001b[36m(pid=2548)\u001b[0m called with 1000 1000000000000\n",
            "\u001b[2m\u001b[36m(pid=2549)\u001b[0m called with 1000 1000000000000\n",
            "\u001b[2m\u001b[36m(pid=2548)\u001b[0m called with 1000 1000000000000\n",
            "\u001b[2m\u001b[36m(pid=2549)\u001b[0m called with 1000 1000000000000\n",
            "\u001b[2m\u001b[36m(pid=2549)\u001b[0m called with 1000 1000000000000\n",
            "\u001b[2m\u001b[36m(pid=2548)\u001b[0m called with 1000 1000000000000\n",
            "\u001b[2m\u001b[36m(pid=2549)\u001b[0m called with 1000 1000000000000\n",
            "\u001b[2m\u001b[36m(pid=2548)\u001b[0m called with 1000 1000000000000\n",
            "\u001b[2m\u001b[36m(pid=2549)\u001b[0m called with 1000 1000000000000\n",
            "\u001b[2m\u001b[36m(pid=2548)\u001b[0m called with 1000 1000000000000\n",
            "\u001b[2m\u001b[36m(pid=2549)\u001b[0m called with 1000 1000000000000\n",
            "\u001b[2m\u001b[36m(pid=2548)\u001b[0m called with 1000 1000000000000\n",
            "\u001b[2m\u001b[36m(pid=2549)\u001b[0m called with 1000 1000000000000\n",
            "\u001b[2m\u001b[36m(pid=2548)\u001b[0m called with 1000 1000000000000\n",
            "\u001b[2m\u001b[36m(pid=2549)\u001b[0m called with 1000 1000000000000\n",
            "\u001b[2m\u001b[36m(pid=2548)\u001b[0m called with 1000 1000000000000\n",
            "\u001b[2m\u001b[36m(pid=2549)\u001b[0m called with 1000 1000000000000\n",
            "\u001b[2m\u001b[36m(pid=2548)\u001b[0m called with 1000 1000000000000\n",
            "\u001b[2m\u001b[36m(pid=2548)\u001b[0m called with 1000 1000000000000\n",
            "\u001b[2m\u001b[36m(pid=2549)\u001b[0m called with 1000 1000000000000\n",
            "\u001b[2m\u001b[36m(pid=2549)\u001b[0m called with 1000 1000000000000\n",
            "\u001b[2m\u001b[36m(pid=2548)\u001b[0m called with 1000 1000000000000\n",
            "\u001b[2m\u001b[36m(pid=2549)\u001b[0m called with 1000 1000000000000\n",
            "\u001b[2m\u001b[36m(pid=2548)\u001b[0m called with 1000 1000000000000\n",
            "\u001b[2m\u001b[36m(pid=2549)\u001b[0m called with 1000 1000000000000\n",
            "\u001b[2m\u001b[36m(pid=2548)\u001b[0m called with 1000 1000000000000\n",
            "\u001b[2m\u001b[36m(pid=2549)\u001b[0m called with 1000 1000000000000\n",
            "\u001b[2m\u001b[36m(pid=2548)\u001b[0m called with 1000 1000000000000\n",
            "\u001b[2m\u001b[36m(pid=2549)\u001b[0m called with 1000 1000000000000\n",
            "\u001b[2m\u001b[36m(pid=2548)\u001b[0m called with 1000 1000000000000\n",
            "\u001b[2m\u001b[36m(pid=2549)\u001b[0m called with 1000 1000000000000\n",
            "\u001b[2m\u001b[36m(pid=2548)\u001b[0m called with 1000 1000000000000\n",
            "\u001b[2m\u001b[36m(pid=2549)\u001b[0m called with 1000 1000000000000\n",
            "\u001b[2m\u001b[36m(pid=2548)\u001b[0m called with 1000 1000000000000\n",
            "\u001b[2m\u001b[36m(pid=2549)\u001b[0m called with 1000 1000000000000\n",
            "\u001b[2m\u001b[36m(pid=2548)\u001b[0m called with 1000 1000000000000\n",
            "\u001b[2m\u001b[36m(pid=2548)\u001b[0m called with 1000 1000000000000\n",
            "\u001b[2m\u001b[36m(pid=2549)\u001b[0m called with 1000 1000000000000\n",
            "\u001b[2m\u001b[36m(pid=2548)\u001b[0m called with 1000 1000000000000\n",
            "\u001b[2m\u001b[36m(pid=2549)\u001b[0m called with 1000 1000000000000\n",
            "\u001b[2m\u001b[36m(pid=2548)\u001b[0m called with 1000 1000000000000\n",
            "\u001b[2m\u001b[36m(pid=2549)\u001b[0m called with 1000 1000000000000\n",
            "\u001b[2m\u001b[36m(pid=2548)\u001b[0m called with 1000 1000000000000\n",
            "\u001b[2m\u001b[36m(pid=2549)\u001b[0m called with 1000 1000000000000\n",
            "\u001b[2m\u001b[36m(pid=2548)\u001b[0m called with 1000 1000000000000\n",
            "\u001b[2m\u001b[36m(pid=2549)\u001b[0m called with 1000 1000000000000\n",
            "\u001b[2m\u001b[36m(pid=2548)\u001b[0m called with 1000 1000000000000\n",
            "\u001b[2m\u001b[36m(pid=2549)\u001b[0m called with 1000 1000000000000\n",
            "\u001b[2m\u001b[36m(pid=2548)\u001b[0m called with 1000 1000000000000\n",
            "\u001b[2m\u001b[36m(pid=2549)\u001b[0m called with 1000 1000000000000\n",
            "\u001b[2m\u001b[36m(pid=2548)\u001b[0m called with 1000 1000000000000\n",
            "\u001b[2m\u001b[36m(pid=2549)\u001b[0m called with 1000 1000000000000\n",
            "\u001b[2m\u001b[36m(pid=2548)\u001b[0m called with 1000 1000000000000\n",
            "\u001b[2m\u001b[36m(pid=2549)\u001b[0m called with 1000 1000000000000\n",
            "\u001b[2m\u001b[36m(pid=2548)\u001b[0m called with 1000 1000000000000\n",
            "\u001b[2m\u001b[36m(pid=2549)\u001b[0m called with 1000 1000000000000\n",
            "\u001b[2m\u001b[36m(pid=2548)\u001b[0m called with 1000 1000000000000\n",
            "\u001b[2m\u001b[36m(pid=2549)\u001b[0m called with 1000 1000000000000\n",
            "\u001b[2m\u001b[36m(pid=2548)\u001b[0m called with 1000 1000000000000\n",
            "\u001b[2m\u001b[36m(pid=2549)\u001b[0m called with 1000 1000000000000\n",
            "\u001b[2m\u001b[36m(pid=2548)\u001b[0m called with 1000 1000000000000\n",
            "\u001b[2m\u001b[36m(pid=2549)\u001b[0m called with 1000 1000000000000\n",
            "\u001b[2m\u001b[36m(pid=2548)\u001b[0m called with 1000 1000000000000\n",
            "\u001b[2m\u001b[36m(pid=2549)\u001b[0m called with 1000 1000000000000\n",
            "\u001b[2m\u001b[36m(pid=2548)\u001b[0m called with 1000 1000000000000\n",
            "\u001b[2m\u001b[36m(pid=2549)\u001b[0m called with 1000 1000000000000\n",
            "\u001b[2m\u001b[36m(pid=2548)\u001b[0m called with 1000 1000000000000\n",
            "\u001b[2m\u001b[36m(pid=2549)\u001b[0m called with 1000 1000000000000\n",
            "\u001b[2m\u001b[36m(pid=2549)\u001b[0m called with 1000 1000000000000\n",
            "\u001b[2m\u001b[36m(pid=2548)\u001b[0m called with 1000 1000000000000\n",
            "\u001b[2m\u001b[36m(pid=2549)\u001b[0m called with 1000 1000000000000\n",
            "\u001b[2m\u001b[36m(pid=2548)\u001b[0m called with 1000 1000000000000\n",
            "\u001b[2m\u001b[36m(pid=2549)\u001b[0m called with 1000 1000000000000\n",
            "\u001b[2m\u001b[36m(pid=2548)\u001b[0m called with 1000 1000000000000\n",
            "\u001b[2m\u001b[36m(pid=2549)\u001b[0m called with 1000 1000000000000\n",
            "\u001b[2m\u001b[36m(pid=2548)\u001b[0m called with 1000 1000000000000\n",
            "\u001b[2m\u001b[36m(pid=2549)\u001b[0m called with 1000 1000000000000\n",
            "\u001b[2m\u001b[36m(pid=2548)\u001b[0m called with 1000 1000000000000\n",
            "\u001b[2m\u001b[36m(pid=2549)\u001b[0m called with 1000 1000000000000\n",
            "\u001b[2m\u001b[36m(pid=2548)\u001b[0m called with 1000 1000000000000\n",
            "\u001b[2m\u001b[36m(pid=2549)\u001b[0m called with 1000 1000000000000\n",
            "\u001b[2m\u001b[36m(pid=2548)\u001b[0m called with 1000 1000000000000\n",
            "\u001b[2m\u001b[36m(pid=2549)\u001b[0m called with 1000 1000000000000\n",
            "\u001b[2m\u001b[36m(pid=2548)\u001b[0m called with 1000 1000000000000\n",
            "\u001b[2m\u001b[36m(pid=2549)\u001b[0m called with 1000 1000000000000\n",
            "\u001b[2m\u001b[36m(pid=2548)\u001b[0m called with 1000 1000000000000\n",
            "\u001b[2m\u001b[36m(pid=2549)\u001b[0m called with 1000 1000000000000\n",
            "\u001b[2m\u001b[36m(pid=2548)\u001b[0m called with 1000 1000000000000\n",
            "\u001b[2m\u001b[36m(pid=2549)\u001b[0m called with 1000 1000000000000\n",
            "\u001b[2m\u001b[36m(pid=2548)\u001b[0m called with 1000 1000000000000\n",
            "\u001b[2m\u001b[36m(pid=2549)\u001b[0m called with 1000 1000000000000\n",
            "\u001b[2m\u001b[36m(pid=2548)\u001b[0m called with 1000 1000000000000\n",
            "\u001b[2m\u001b[36m(pid=2549)\u001b[0m called with 1000 1000000000000\n",
            "\u001b[2m\u001b[36m(pid=2548)\u001b[0m called with 1000 1000000000000\n",
            "\u001b[2m\u001b[36m(pid=2548)\u001b[0m called with 1000 1000000000000\n",
            "\u001b[2m\u001b[36m(pid=2549)\u001b[0m called with 1000 1000000000000\n",
            "\u001b[2m\u001b[36m(pid=2548)\u001b[0m called with 1000 1000000000000\n",
            "\u001b[2m\u001b[36m(pid=2549)\u001b[0m called with 1000 1000000000000\n",
            "\u001b[2m\u001b[36m(pid=2548)\u001b[0m called with 1000 1000000000000\n",
            "\u001b[2m\u001b[36m(pid=2549)\u001b[0m called with 1000 1000000000000\n",
            "\u001b[2m\u001b[36m(pid=2549)\u001b[0m called with 1000 1000000000000\n",
            "\u001b[2m\u001b[36m(pid=2548)\u001b[0m called with 1000 1000000000000\n",
            "\u001b[2m\u001b[36m(pid=2549)\u001b[0m called with 1000 1000000000000\n",
            "\u001b[2m\u001b[36m(pid=2548)\u001b[0m called with 1000 1000000000000\n"
          ],
          "name": "stdout"
        }
      ]
    },
    {
      "cell_type": "code",
      "metadata": {
        "id": "lrgx2-YCpOpB"
      },
      "source": [
        ""
      ],
      "id": "lrgx2-YCpOpB",
      "execution_count": 10,
      "outputs": []
    }
  ]
}
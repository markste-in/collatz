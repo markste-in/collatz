{
 "nbformat": 4,
 "nbformat_minor": 5,
 "metadata": {
  "kernelspec": {
   "name": "pycharm-e89d62da",
   "language": "python",
   "display_name": "PyCharm (collatz)"
  },
  "language_info": {
   "codemirror_mode": {
    "name": "ipython",
    "version": 3
   },
   "file_extension": ".py",
   "mimetype": "text/x-python",
   "name": "python",
   "nbconvert_exporter": "python",
   "pygments_lexer": "ipython3",
   "version": "3.8.5"
  },
  "colab": {
   "name": "create_dataset.ipynb",
   "provenance": [],
   "include_colab_link": true
  }
 },
 "cells": [
  {
   "cell_type": "markdown",
   "metadata": {
    "id": "view-in-github",
    "colab_type": "text"
   },
   "source": [
    "<a href=\"https://colab.research.google.com/github/markste-in/collatz/blob/main/create_dataset.ipynb\" target=\"_parent\"><img src=\"https://colab.research.google.com/assets/colab-badge.svg\" alt=\"Open In Colab\"/></a>"
   ]
  },
  {
   "cell_type": "code",
   "metadata": {
    "colab": {
     "base_uri": "https://localhost:8080/"
    },
    "id": "MbT_2C0WaGFL",
    "outputId": "bdebd839-fca0-4561-9f2a-b90940e22845"
   },
   "source": [
    "# from google.colab import drive\n",
    "# drive.mount('/content/gdrive')"
   ],
   "id": "MbT_2C0WaGFL",
   "execution_count": 1,
   "outputs": []
  },
  {
   "cell_type": "code",
   "metadata": {
    "id": "chicken-optimization"
   },
   "source": [
    "import pandas as pd\n",
    "import numpy as np\n",
    "from multiprocessing import Pool\n",
    "import psutil\n",
    "import time\n",
    "import os\n",
    "from helper import *\n",
    "\n"
   ],
   "id": "chicken-optimization",
   "execution_count": 2,
   "outputs": []
  },
  {
   "cell_type": "code",
   "metadata": {
    "colab": {
     "base_uri": "https://localhost:8080/"
    },
    "id": "TOWISd_CczSE",
    "outputId": "20779c9b-1d9f-44c0-9941-5e3b8017d903"
   },
   "source": [
    "print(\"CPU Count:\", psutil.cpu_count())"
   ],
   "id": "TOWISd_CczSE",
   "execution_count": 3,
   "outputs": [
    {
     "name": "stdout",
     "output_type": "stream",
     "text": [
      "CPU Count: 8\n"
     ]
    }
   ]
  },
  {
   "cell_type": "code",
   "execution_count": 4,
   "outputs": [],
   "source": [
    "pool = Pool(psutil.cpu_count())"
   ],
   "metadata": {
    "collapsed": false,
    "pycharm": {
     "name": "#%%\n"
    }
   }
  },
  {
   "cell_type": "code",
   "execution_count": 5,
   "outputs": [
    {
     "data": {
      "text/plain": "[19, 58, 29, 88, 44, 22, 11, 34, 17, 52, 26, 13, 40, 20, 10, 5, 16, 8, 4, 2, 1]"
     },
     "execution_count": 5,
     "metadata": {},
     "output_type": "execute_result"
    }
   ],
   "source": [
    "collatz_serie(19)"
   ],
   "metadata": {
    "collapsed": false,
    "pycharm": {
     "name": "#%%\n"
    }
   }
  },
  {
   "cell_type": "code",
   "metadata": {
    "id": "declared-throw"
   },
   "source": [
    "SMALLEST_NUMBER = 3 # since we calculate the previous serie the smallest number is actually one smaller (should not go below 2 since the return value of the collatz could be an empty list)\n",
    "\n",
    "def create_dataset(start, stop):\n",
    "    cz_series = pool.map(collatz_serie, range(start,stop+1))\n",
    "    dataset = pool.map(all_fancy_calculations, cz_series)\n",
    "    return pd.DataFrame(dataset)"
   ],
   "id": "declared-throw",
   "execution_count": 6,
   "outputs": []
  },
  {
   "cell_type": "code",
   "metadata": {
    "id": "rarANzTKS3WP"
   },
   "source": [
    "# Save dataframe\n",
    "def save_df(df):\n",
    "  PATH = \"gdrive/MyDrive/collatz_dbs/\"\n",
    "  os.makedirs(PATH,exist_ok=True)\n",
    "  FILENAME = 'collatz_db_' + time.strftime(\"%Y%m%d-%H%M%S_\") + str(np.random.randint(1e3,1e9)) + '.parquet'\n",
    "  file = os.path.join(PATH,FILENAME)\n",
    "  df.to_parquet(file)\n",
    "  print(\"Saved to\", file)"
   ],
   "id": "rarANzTKS3WP",
   "execution_count": 7,
   "outputs": []
  },
  {
   "cell_type": "code",
   "metadata": {
    "id": "pJRKAs3DYH_3",
    "outputId": "71c00529-5c5f-4ada-ae6f-38fc2024a2ac",
    "colab": {
     "base_uri": "https://localhost:8080/",
     "height": 902
    },
    "pycharm": {
     "is_executing": true
    }
   },
   "source": [
    "dist = int(1e6)\n",
    "max_num = int(1e10)\n",
    "start = 3\n",
    "\n",
    "\n",
    "for end in range(start,max_num,dist):\n",
    "  start_time = time.time()\n",
    "  print('## Going from ',start, \"to\",start + dist, \"##\")\n",
    "  df = create_dataset(start,start + dist)\n",
    "  df.columns = xheader\n",
    "  save_df(df)\n",
    "  del df\n",
    "  start = start + dist\n",
    "  print(\"Iteration took\", time.time()-start_time)"
   ],
   "id": "pJRKAs3DYH_3",
   "execution_count": null,
   "outputs": [
    {
     "name": "stdout",
     "output_type": "stream",
     "text": [
      "## Going from  3 to 1000003 ##\n",
      "Saved to gdrive/MyDrive/collatz_dbs/collatz_db_20210813-032102_442952202.parquet\n",
      "Iteration took 13.734227895736694\n",
      "## Going from  1000003 to 2000003 ##\n",
      "Saved to gdrive/MyDrive/collatz_dbs/collatz_db_20210813-032118_833800966.parquet\n",
      "Iteration took 16.37033486366272\n",
      "## Going from  2000003 to 3000003 ##\n",
      "Saved to gdrive/MyDrive/collatz_dbs/collatz_db_20210813-032137_574646764.parquet\n",
      "Iteration took 18.593326091766357\n",
      "## Going from  3000003 to 4000003 ##\n",
      "Saved to gdrive/MyDrive/collatz_dbs/collatz_db_20210813-032158_115746708.parquet\n",
      "Iteration took 21.643658876419067\n",
      "## Going from  4000003 to 5000003 ##\n",
      "Saved to gdrive/MyDrive/collatz_dbs/collatz_db_20210813-032224_564088589.parquet\n",
      "Iteration took 26.11418890953064\n",
      "## Going from  5000003 to 6000003 ##\n",
      "Saved to gdrive/MyDrive/collatz_dbs/collatz_db_20210813-032258_393165391.parquet\n",
      "Iteration took 34.0691020488739\n",
      "## Going from  6000003 to 7000003 ##\n",
      "Saved to gdrive/MyDrive/collatz_dbs/collatz_db_20210813-032334_695935637.parquet\n",
      "Iteration took 35.43863081932068\n",
      "## Going from  7000003 to 8000003 ##\n",
      "Saved to gdrive/MyDrive/collatz_dbs/collatz_db_20210813-032418_420295483.parquet\n",
      "Iteration took 43.69261407852173\n",
      "## Going from  8000003 to 9000003 ##\n",
      "Saved to gdrive/MyDrive/collatz_dbs/collatz_db_20210813-032500_538328247.parquet\n",
      "Iteration took 42.24837017059326\n",
      "## Going from  9000003 to 10000003 ##\n",
      "Saved to gdrive/MyDrive/collatz_dbs/collatz_db_20210813-032541_829722190.parquet\n",
      "Iteration took 41.21682810783386\n",
      "## Going from  10000003 to 11000003 ##\n",
      "Saved to gdrive/MyDrive/collatz_dbs/collatz_db_20210813-032622_438658221.parquet\n",
      "Iteration took 41.151968002319336\n",
      "## Going from  11000003 to 12000003 ##\n",
      "Saved to gdrive/MyDrive/collatz_dbs/collatz_db_20210813-032703_441103471.parquet\n",
      "Iteration took 40.5584020614624\n",
      "## Going from  12000003 to 13000003 ##\n"
     ]
    }
   ]
  },
  {
   "cell_type": "code",
   "metadata": {
    "id": "JakkTy7CTVit",
    "pycharm": {
     "name": "#%%\n",
     "is_executing": true
    }
   },
   "source": [
    "df.sample(20)"
   ],
   "id": "JakkTy7CTVit",
   "execution_count": null,
   "outputs": []
  },
  {
   "cell_type": "code",
   "execution_count": null,
   "outputs": [],
   "source": [
    "collatz_serie(94172)"
   ],
   "metadata": {
    "collapsed": false,
    "pycharm": {
     "name": "#%%\n",
     "is_executing": true
    }
   }
  },
  {
   "cell_type": "code",
   "execution_count": null,
   "outputs": [],
   "source": [],
   "metadata": {
    "collapsed": false,
    "pycharm": {
     "name": "#%%\n",
     "is_executing": true
    }
   }
  }
 ]
}
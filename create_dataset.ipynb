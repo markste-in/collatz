{
 "cells": [
  {
   "cell_type": "markdown",
   "id": "96381d17",
   "metadata": {
    "colab_type": "text",
    "id": "view-in-github"
   },
   "source": [
    "<a href=\"https://colab.research.google.com/github/markste-in/collatz/blob/main/create_dataset.ipynb\" target=\"_parent\"><img src=\"https://colab.research.google.com/assets/colab-badge.svg\" alt=\"Open In Colab\"/></a>"
   ]
  },
  {
   "cell_type": "code",
   "execution_count": 1,
   "id": "MbT_2C0WaGFL",
   "metadata": {
    "colab": {
     "base_uri": "https://localhost:8080/"
    },
    "id": "MbT_2C0WaGFL",
    "outputId": "bdebd839-fca0-4561-9f2a-b90940e22845"
   },
   "outputs": [],
   "source": [
    "# from google.colab import drive\n",
    "# drive.mount('/content/gdrive')\n"
   ]
  },
  {
   "cell_type": "code",
   "execution_count": 2,
   "id": "ae6e2ef7",
   "metadata": {},
   "outputs": [
    {
     "name": "stdout",
     "output_type": "stream",
     "text": [
      "zsh:1: command not found: lsblk\r\n"
     ]
    }
   ],
   "source": [
    "!lsblk"
   ]
  },
  {
   "cell_type": "code",
   "execution_count": 3,
   "id": "382ece40",
   "metadata": {},
   "outputs": [
    {
     "name": "stdout",
     "output_type": "stream",
     "text": [
      "Password:\r\n",
      "sudo: a password is required\r\n"
     ]
    }
   ],
   "source": [
    "!sudo file -s /dev/nvme1n1"
   ]
  },
  {
   "cell_type": "code",
   "execution_count": 4,
   "id": "e021a9d5",
   "metadata": {},
   "outputs": [],
   "source": [
    "#!sudo mkfs -t xfs /dev/nvme1n1"
   ]
  },
  {
   "cell_type": "code",
   "execution_count": 5,
   "id": "34ddc2da",
   "metadata": {},
   "outputs": [
    {
     "name": "stdout",
     "output_type": "stream",
     "text": [
      "Password:\r\n",
      "sudo: a password is required\r\n",
      "Password:\r\n",
      "sudo: a password is required\r\n",
      "\r\n",
      "sudo: a password is required\r\n"
     ]
    }
   ],
   "source": [
    "!sudo mkdir /data\n",
    "!sudo mount /dev/nvme1n1 /data\n",
    "!sudo chown $USER:$USER /data"
   ]
  },
  {
   "cell_type": "code",
   "execution_count": 1,
   "id": "chicken-optimization",
   "metadata": {
    "id": "chicken-optimization"
   },
   "outputs": [],
   "source": [
    "from multiprocessing import Pool\n",
    "import psutil\n",
    "from helper import *\n"
   ]
  },
  {
   "cell_type": "code",
   "execution_count": 2,
   "id": "TOWISd_CczSE",
   "metadata": {
    "colab": {
     "base_uri": "https://localhost:8080/"
    },
    "id": "TOWISd_CczSE",
    "outputId": "20779c9b-1d9f-44c0-9941-5e3b8017d903"
   },
   "outputs": [
    {
     "name": "stdout",
     "output_type": "stream",
     "text": [
      "CPU Count: 8\n"
     ]
    }
   ],
   "source": [
    "print(\"CPU Count:\", psutil.cpu_count())"
   ]
  },
  {
   "cell_type": "code",
   "execution_count": 3,
   "id": "69f581ff",
   "metadata": {
    "pycharm": {
     "name": "#%%\n"
    }
   },
   "outputs": [
    {
     "name": "stdout",
     "output_type": "stream",
     "text": [
      "## Going from  3 to 500003 ##\n",
      "Saved to ~/collatz_dbs/collatz_db_20210813-161440_741661059.parquet\n",
      "Iteration took 7.617049932479858\n",
      "## Going from  500003 to 1000003 ##\n",
      "Saved to ~/collatz_dbs/collatz_db_20210813-161447_245902954.parquet\n",
      "Iteration took 7.547245979309082\n",
      "## Going from  1000003 to 1500003 ##\n",
      "Saved to ~/collatz_dbs/collatz_db_20210813-161456_394028577.parquet\n",
      "Iteration took 8.416938304901123\n",
      "## Going from  1500003 to 2000003 ##\n",
      "Saved to ~/collatz_dbs/collatz_db_20210813-161505_459973596.parquet\n",
      "Iteration took 9.107331991195679\n"
     ]
    }
   ],
   "source": [
    "if __name__ == '__main__':\n",
    "    pool = Pool(psutil.cpu_count())\n",
    "    path  = \"~/collatz_dbs/\"\n",
    "    create_all(pool,path)\n",
    "\n",
    "\n"
   ]
  }
 ],
 "metadata": {
  "colab": {
   "include_colab_link": true,
   "name": "create_dataset.ipynb",
   "provenance": []
  },
  "kernelspec": {
   "name": "pycharm-e89d62da",
   "language": "python",
   "display_name": "PyCharm (collatz)"
  },
  "language_info": {
   "codemirror_mode": {
    "name": "ipython",
    "version": 3
   },
   "file_extension": ".py",
   "mimetype": "text/x-python",
   "name": "python",
   "nbconvert_exporter": "python",
   "pygments_lexer": "ipython3",
   "version": "3.9.6"
  }
 },
 "nbformat": 4,
 "nbformat_minor": 5
}
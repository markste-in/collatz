{
  "nbformat": 4,
  "nbformat_minor": 5,
  "metadata": {
    "kernelspec": {
      "display_name": "Python 3",
      "language": "python",
      "name": "python3"
    },
    "language_info": {
      "codemirror_mode": {
        "name": "ipython",
        "version": 3
      },
      "file_extension": ".py",
      "mimetype": "text/x-python",
      "name": "python",
      "nbconvert_exporter": "python",
      "pygments_lexer": "ipython3",
      "version": "3.8.5"
    },
    "colab": {
      "name": "create_dataset.ipynb",
      "provenance": [],
      "include_colab_link": true
    }
  },
  "cells": [
    {
      "cell_type": "markdown",
      "metadata": {
        "id": "view-in-github",
        "colab_type": "text"
      },
      "source": [
        "<a href=\"https://colab.research.google.com/github/markste-in/collatz/blob/main/create_dataset.ipynb\" target=\"_parent\"><img src=\"https://colab.research.google.com/assets/colab-badge.svg\" alt=\"Open In Colab\"/></a>"
      ]
    },
    {
      "cell_type": "code",
      "metadata": {
        "id": "uI7ekPDHZutC"
      },
      "source": [
        "!pip install ray &> /dev/null\n",
        "!pip install \"ray[default]\" &> /dev/null"
      ],
      "id": "uI7ekPDHZutC",
      "execution_count": 1,
      "outputs": []
    },
    {
      "cell_type": "code",
      "metadata": {
        "colab": {
          "base_uri": "https://localhost:8080/"
        },
        "id": "MbT_2C0WaGFL",
        "outputId": "876d933a-5b1e-40dd-aa2d-02e93ed43699"
      },
      "source": [
        "from google.colab import drive\n",
        "drive.mount('/content/gdrive')"
      ],
      "id": "MbT_2C0WaGFL",
      "execution_count": 2,
      "outputs": [
        {
          "output_type": "stream",
          "text": [
            "Mounted at /content/gdrive\n"
          ],
          "name": "stdout"
        }
      ]
    },
    {
      "cell_type": "code",
      "metadata": {
        "id": "chicken-optimization"
      },
      "source": [
        "import pandas as pd\n",
        "import numpy as np\n",
        "import sympy\n",
        "from sympy.ntheory import factorint\n",
        "from multiprocessing import Pool\n",
        "import psutil\n",
        "import time\n",
        "import os"
      ],
      "id": "chicken-optimization",
      "execution_count": 24,
      "outputs": []
    },
    {
      "cell_type": "code",
      "metadata": {
        "colab": {
          "base_uri": "https://localhost:8080/"
        },
        "id": "TOWISd_CczSE",
        "outputId": "1b78e0a3-aced-433d-8410-a9e24bb77cdd"
      },
      "source": [
        "print(\"CPU Count:\", psutil.cpu_count())"
      ],
      "id": "TOWISd_CczSE",
      "execution_count": 25,
      "outputs": [
        {
          "output_type": "stream",
          "text": [
            "CPU Count: 2\n"
          ],
          "name": "stdout"
        }
      ]
    },
    {
      "cell_type": "code",
      "metadata": {
        "id": "expected-croatia"
      },
      "source": [
        "pool = Pool()"
      ],
      "id": "expected-croatia",
      "execution_count": 26,
      "outputs": []
    },
    {
      "cell_type": "code",
      "metadata": {
        "id": "sTsOyltdQO9h"
      },
      "source": [
        "def collatz_serie(n : int) -> int:\n",
        "    ret = [n]\n",
        "    while (n>1):\n",
        "        if n%2 == 0: \n",
        "            _n = int(n / 2)\n",
        "        else: \n",
        "            _n = n*3+1\n",
        "        n = _n\n",
        "        ret.append(n)\n",
        "    return ret"
      ],
      "id": "sTsOyltdQO9h",
      "execution_count": 27,
      "outputs": []
    },
    {
      "cell_type": "code",
      "metadata": {
        "id": "itEgB6nWPxpa",
        "outputId": "dc9e0534-f6e0-414a-c9e4-d888bf0bb994",
        "colab": {
          "base_uri": "https://localhost:8080/"
        }
      },
      "source": [
        "collatz_serie(19)"
      ],
      "id": "itEgB6nWPxpa",
      "execution_count": 28,
      "outputs": [
        {
          "output_type": "execute_result",
          "data": {
            "text/plain": [
              "[19, 58, 29, 88, 44, 22, 11, 34, 17, 52, 26, 13, 40, 20, 10, 5, 16, 8, 4, 2, 1]"
            ]
          },
          "metadata": {
            "tags": []
          },
          "execution_count": 28
        }
      ]
    },
    {
      "cell_type": "code",
      "metadata": {
        "id": "becoming-september"
      },
      "source": [
        "xheader = [\"Number\", \n",
        "          \"Length\",\n",
        "          \"Max\", \n",
        "          \"IsEven\",\n",
        "          \"nPrimes\",\n",
        "          \"Smallest_Prime\",\n",
        "          \"nSmallest_Prim\",\n",
        "          \"Biggest_Prime\",\n",
        "          \"nBiggest_Prime\", \n",
        "          \"isPrime\"]\n",
        "\n",
        "def all_fancy_calculations(serie):\n",
        "        calculations = list()\n",
        "        num_in_question = serie[0]\n",
        "        fac_n = factorint(num_in_question)\n",
        "        \n",
        "        calculations.append(num_in_question)       # Starting number\n",
        "        calculations.append(len(serie))     # Length of series\n",
        "        calculations.append(max(serie))     # Max of number series\n",
        "        calculations.append(num_in_question%2 ==0) # Is even?\n",
        "        calculations.append(len(fac_n)) # how many primes\n",
        "        calculations.append(min(fac_n)) # smallest prime\n",
        "        calculations.append(fac_n[min(fac_n)]) # how often does the smallest prime appear\n",
        "        calculations.append(max(fac_n)) # biggest prime\n",
        "        calculations.append(fac_n[max(fac_n)]) # how often does the biggest prime appear\n",
        "        calculations.append(sympy.isprime(num_in_question)) #is prime?\n",
        "        \n",
        "        return calculations\n",
        "    "
      ],
      "id": "becoming-september",
      "execution_count": 29,
      "outputs": []
    },
    {
      "cell_type": "code",
      "metadata": {
        "id": "declared-throw"
      },
      "source": [
        "SMALLEST_NUMBER = 3 # since we calculate the previous serie the smallest number is actually one smaller (should not go below 2 since the return value of the collatz could be an empty list)\n",
        "\n",
        "def create_dataset(highest_number):\n",
        "    cz_series = pool.map(collatz_serie, range(3,highest_number))\n",
        "    dataset = pool.map(all_fancy_calculations, cz_series)\n",
        "\n",
        "    return pd.DataFrame(dataset)"
      ],
      "id": "declared-throw",
      "execution_count": 30,
      "outputs": []
    },
    {
      "cell_type": "code",
      "metadata": {
        "colab": {
          "base_uri": "https://localhost:8080/"
        },
        "id": "agricultural-landscape",
        "outputId": "3741d626-547d-4601-e1e8-864c86ccab5d"
      },
      "source": [
        "%%time\n",
        "highest_number = int(1e5)\n",
        "\n",
        "df = create_dataset(highest_number)\n",
        "df.columns = xheader"
      ],
      "id": "agricultural-landscape",
      "execution_count": 31,
      "outputs": [
        {
          "output_type": "stream",
          "text": [
            "CPU times: user 4.51 s, sys: 696 ms, total: 5.21 s\n",
            "Wall time: 14.5 s\n"
          ],
          "name": "stdout"
        }
      ]
    },
    {
      "cell_type": "code",
      "metadata": {
        "id": "JakkTy7CTVit",
        "outputId": "ce4fcf87-90eb-4e00-a1aa-88b0a1af0bee",
        "colab": {
          "base_uri": "https://localhost:8080/",
          "height": 204
        }
      },
      "source": [
        "df.sample(5)"
      ],
      "id": "JakkTy7CTVit",
      "execution_count": 32,
      "outputs": [
        {
          "output_type": "execute_result",
          "data": {
            "text/html": [
              "<div>\n",
              "<style scoped>\n",
              "    .dataframe tbody tr th:only-of-type {\n",
              "        vertical-align: middle;\n",
              "    }\n",
              "\n",
              "    .dataframe tbody tr th {\n",
              "        vertical-align: top;\n",
              "    }\n",
              "\n",
              "    .dataframe thead th {\n",
              "        text-align: right;\n",
              "    }\n",
              "</style>\n",
              "<table border=\"1\" class=\"dataframe\">\n",
              "  <thead>\n",
              "    <tr style=\"text-align: right;\">\n",
              "      <th></th>\n",
              "      <th>Number</th>\n",
              "      <th>Length</th>\n",
              "      <th>Max</th>\n",
              "      <th>IsEven</th>\n",
              "      <th>nPrimes</th>\n",
              "      <th>Smallest_Prime</th>\n",
              "      <th>nSmallest_Prim</th>\n",
              "      <th>Biggest_Prime</th>\n",
              "      <th>nBiggest_Prime</th>\n",
              "      <th>isPrime</th>\n",
              "    </tr>\n",
              "  </thead>\n",
              "  <tbody>\n",
              "    <tr>\n",
              "      <th>21987</th>\n",
              "      <td>21990</td>\n",
              "      <td>101</td>\n",
              "      <td>70468</td>\n",
              "      <td>True</td>\n",
              "      <td>4</td>\n",
              "      <td>2</td>\n",
              "      <td>1</td>\n",
              "      <td>733</td>\n",
              "      <td>1</td>\n",
              "      <td>False</td>\n",
              "    </tr>\n",
              "    <tr>\n",
              "      <th>77892</th>\n",
              "      <td>77895</td>\n",
              "      <td>232</td>\n",
              "      <td>12141952</td>\n",
              "      <td>False</td>\n",
              "      <td>3</td>\n",
              "      <td>3</td>\n",
              "      <td>3</td>\n",
              "      <td>577</td>\n",
              "      <td>1</td>\n",
              "      <td>False</td>\n",
              "    </tr>\n",
              "    <tr>\n",
              "      <th>52100</th>\n",
              "      <td>52103</td>\n",
              "      <td>79</td>\n",
              "      <td>351700</td>\n",
              "      <td>False</td>\n",
              "      <td>1</td>\n",
              "      <td>52103</td>\n",
              "      <td>1</td>\n",
              "      <td>52103</td>\n",
              "      <td>1</td>\n",
              "      <td>True</td>\n",
              "    </tr>\n",
              "    <tr>\n",
              "      <th>98038</th>\n",
              "      <td>98041</td>\n",
              "      <td>67</td>\n",
              "      <td>372256</td>\n",
              "      <td>False</td>\n",
              "      <td>1</td>\n",
              "      <td>98041</td>\n",
              "      <td>1</td>\n",
              "      <td>98041</td>\n",
              "      <td>1</td>\n",
              "      <td>True</td>\n",
              "    </tr>\n",
              "    <tr>\n",
              "      <th>54286</th>\n",
              "      <td>54289</td>\n",
              "      <td>92</td>\n",
              "      <td>162868</td>\n",
              "      <td>False</td>\n",
              "      <td>1</td>\n",
              "      <td>233</td>\n",
              "      <td>2</td>\n",
              "      <td>233</td>\n",
              "      <td>2</td>\n",
              "      <td>False</td>\n",
              "    </tr>\n",
              "  </tbody>\n",
              "</table>\n",
              "</div>"
            ],
            "text/plain": [
              "       Number  Length       Max  ...  Biggest_Prime  nBiggest_Prime  isPrime\n",
              "21987   21990     101     70468  ...            733               1    False\n",
              "77892   77895     232  12141952  ...            577               1    False\n",
              "52100   52103      79    351700  ...          52103               1     True\n",
              "98038   98041      67    372256  ...          98041               1     True\n",
              "54286   54289      92    162868  ...            233               2    False\n",
              "\n",
              "[5 rows x 10 columns]"
            ]
          },
          "metadata": {
            "tags": []
          },
          "execution_count": 32
        }
      ]
    },
    {
      "cell_type": "code",
      "metadata": {
        "id": "rarANzTKS3WP"
      },
      "source": [
        "# Save dataframe\n",
        "PATH = \"gdrive/MyDrive/collatz_dbs/\"\n",
        "os.makedirs(PATH,exist_ok=True)\n",
        "FILENAME = 'collatz_db_' + time.strftime(\"%Y%m%d-%H%M%S\") + '.parquet'\n",
        "file = os.path.join(PATH,FILENAME)\n",
        "df.to_parquet(file)"
      ],
      "id": "rarANzTKS3WP",
      "execution_count": 33,
      "outputs": []
    }
  ]
}
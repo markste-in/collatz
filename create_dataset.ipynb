{
 "nbformat": 4,
 "nbformat_minor": 5,
 "metadata": {
  "kernelspec": {
   "name": "pycharm-e89d62da",
   "language": "python",
   "display_name": "PyCharm (collatz)"
  },
  "language_info": {
   "codemirror_mode": {
    "name": "ipython",
    "version": 3
   },
   "file_extension": ".py",
   "mimetype": "text/x-python",
   "name": "python",
   "nbconvert_exporter": "python",
   "pygments_lexer": "ipython3",
   "version": "3.8.5"
  },
  "colab": {
   "name": "create_dataset.ipynb",
   "provenance": [],
   "include_colab_link": true
  }
 },
 "cells": [
  {
   "cell_type": "markdown",
   "metadata": {
    "id": "view-in-github",
    "colab_type": "text"
   },
   "source": [
    "<a href=\"https://colab.research.google.com/github/markste-in/collatz/blob/main/create_dataset.ipynb\" target=\"_parent\"><img src=\"https://colab.research.google.com/assets/colab-badge.svg\" alt=\"Open In Colab\"/></a>"
   ]
  },
  {
   "cell_type": "code",
   "metadata": {
    "colab": {
     "base_uri": "https://localhost:8080/"
    },
    "id": "MbT_2C0WaGFL",
    "outputId": "bdebd839-fca0-4561-9f2a-b90940e22845"
   },
   "source": [
    "# from google.colab import drive\n",
    "# drive.mount('/content/gdrive')\n"
   ],
   "id": "MbT_2C0WaGFL",
   "execution_count": 1,
   "outputs": []
  },
  {
   "cell_type": "code",
   "metadata": {
    "id": "chicken-optimization"
   },
   "source": [
    "\n",
    "from multiprocessing import Pool\n",
    "import psutil\n",
    "\n",
    "from helper import *\n",
    "\n"
   ],
   "id": "chicken-optimization",
   "execution_count": 2,
   "outputs": []
  },
  {
   "cell_type": "code",
   "metadata": {
    "colab": {
     "base_uri": "https://localhost:8080/"
    },
    "id": "TOWISd_CczSE",
    "outputId": "20779c9b-1d9f-44c0-9941-5e3b8017d903"
   },
   "source": [
    "print(\"CPU Count:\", psutil.cpu_count())"
   ],
   "id": "TOWISd_CczSE",
   "execution_count": 3,
   "outputs": [
    {
     "name": "stdout",
     "output_type": "stream",
     "text": [
      "CPU Count: 8\n"
     ]
    }
   ]
  },
  {
   "cell_type": "code",
   "execution_count": 4,
   "outputs": [],
   "source": [
    "pool = Pool(psutil.cpu_count())"
   ],
   "metadata": {
    "collapsed": false,
    "pycharm": {
     "name": "#%%\n"
    }
   }
  },
  {
   "cell_type": "code",
   "metadata": {
    "id": "declared-throw"
   },
   "source": [
    "df = create_all(pool)"
   ],
   "id": "declared-throw",
   "execution_count": 5,
   "outputs": [
    {
     "name": "stdout",
     "output_type": "stream",
     "text": [
      "## Going from  3 to 10003 ##\n",
      "Saved to gdrive/MyDrive/collatz_dbs/collatz_db_20210813-135703_338700595.parquet\n",
      "Iteration took 1.4359889030456543\n",
      "## Going from  10003 to 20003 ##\n",
      "Saved to gdrive/MyDrive/collatz_dbs/collatz_db_20210813-135703_490620496.parquet\n",
      "Iteration took 0.08176493644714355\n",
      "## Going from  20003 to 30003 ##\n",
      "Saved to gdrive/MyDrive/collatz_dbs/collatz_db_20210813-135703_85032747.parquet\n",
      "Iteration took 0.08693504333496094\n",
      "## Going from  30003 to 40003 ##\n",
      "Saved to gdrive/MyDrive/collatz_dbs/collatz_db_20210813-135703_797312200.parquet\n",
      "Iteration took 0.08953690528869629\n",
      "## Going from  40003 to 50003 ##\n",
      "Saved to gdrive/MyDrive/collatz_dbs/collatz_db_20210813-135703_253645172.parquet\n",
      "Iteration took 0.11967635154724121\n",
      "## Going from  50003 to 60003 ##\n",
      "Saved to gdrive/MyDrive/collatz_dbs/collatz_db_20210813-135703_543913207.parquet\n",
      "Iteration took 0.0944969654083252\n",
      "## Going from  60003 to 70003 ##\n",
      "Saved to gdrive/MyDrive/collatz_dbs/collatz_db_20210813-135703_176088274.parquet\n",
      "Iteration took 0.09504008293151855\n",
      "## Going from  70003 to 80003 ##\n",
      "Saved to gdrive/MyDrive/collatz_dbs/collatz_db_20210813-135703_504338534.parquet\n",
      "Iteration took 0.09850502014160156\n",
      "## Going from  80003 to 90003 ##\n",
      "Saved to gdrive/MyDrive/collatz_dbs/collatz_db_20210813-135704_382706899.parquet\n",
      "Iteration took 0.09923791885375977\n",
      "## Going from  90003 to 100003 ##\n",
      "Saved to gdrive/MyDrive/collatz_dbs/collatz_db_20210813-135704_442093044.parquet\n",
      "Iteration took 0.12718415260314941\n"
     ]
    }
   ]
  },
  {
   "cell_type": "code",
   "metadata": {
    "id": "JakkTy7CTVit",
    "pycharm": {
     "name": "#%%\n"
    }
   },
   "source": [
    "df.sample(20)\n"
   ],
   "id": "JakkTy7CTVit",
   "execution_count": 6,
   "outputs": [
    {
     "data": {
      "text/plain": "      Number  Length      Max  IsEven  nPrimes  Smallest_Prime  \\\n7735   97738      41   146608    True        2               2   \n6643   96646      46   217456    True        4               2   \n4535   94538      85   227176    True        2               2   \n3384   93387      85   420244   False        3               3   \n1331   91334     134   205504    True        2               2   \n6757   96760      98   275560    True        4               2   \n8457   98460      98   186928    True        4               2   \n4144   94147     160   815344   False        2              31   \n1599   91602     209  3173092    True        4               2   \n9723   99726     116   336580    True        4               2   \n2502   92505     134   312208   False        4               3   \n9279   99282     116   424096    True        3               2   \n2300   92303     178   934576   False        2             241   \n1482   91485      72   274456   False        4               3   \n8      90011     116  1025296   False        1           90011   \n7230   97233     160   291700   False        2               3   \n1704   91707     196  8153620   False        4               3   \n7092   97095      72   829492   False        3               3   \n5514   95517     222  1276936   False        2               3   \n4499   94502      85   255472    True        2               2   \n\n      nSmallest_Prim  Biggest_Prime  nBiggest_Prime  isPrime  \n7735               1          48869               1    False  \n6643               1            191               1    False  \n4535               1          47269               1    False  \n3384               1           4447               1    False  \n1331               1          45667               1    False  \n6757               3             59               1    False  \n8457               2            547               1    False  \n4144               1           3037               1    False  \n1599               1            727               1    False  \n9723               1           1511               1    False  \n2502               1            881               1    False  \n9279               1          16547               1    False  \n2300               1            383               1    False  \n1482               2            107               1    False  \n8                  1          90011               1     True  \n7230               1          32411               1    False  \n1704               1            397               1    False  \n7092               1           6473               1    False  \n5514               2          10613               1    False  \n4499               1          47251               1    False  ",
      "text/html": "<div>\n<style scoped>\n    .dataframe tbody tr th:only-of-type {\n        vertical-align: middle;\n    }\n\n    .dataframe tbody tr th {\n        vertical-align: top;\n    }\n\n    .dataframe thead th {\n        text-align: right;\n    }\n</style>\n<table border=\"1\" class=\"dataframe\">\n  <thead>\n    <tr style=\"text-align: right;\">\n      <th></th>\n      <th>Number</th>\n      <th>Length</th>\n      <th>Max</th>\n      <th>IsEven</th>\n      <th>nPrimes</th>\n      <th>Smallest_Prime</th>\n      <th>nSmallest_Prim</th>\n      <th>Biggest_Prime</th>\n      <th>nBiggest_Prime</th>\n      <th>isPrime</th>\n    </tr>\n  </thead>\n  <tbody>\n    <tr>\n      <th>7735</th>\n      <td>97738</td>\n      <td>41</td>\n      <td>146608</td>\n      <td>True</td>\n      <td>2</td>\n      <td>2</td>\n      <td>1</td>\n      <td>48869</td>\n      <td>1</td>\n      <td>False</td>\n    </tr>\n    <tr>\n      <th>6643</th>\n      <td>96646</td>\n      <td>46</td>\n      <td>217456</td>\n      <td>True</td>\n      <td>4</td>\n      <td>2</td>\n      <td>1</td>\n      <td>191</td>\n      <td>1</td>\n      <td>False</td>\n    </tr>\n    <tr>\n      <th>4535</th>\n      <td>94538</td>\n      <td>85</td>\n      <td>227176</td>\n      <td>True</td>\n      <td>2</td>\n      <td>2</td>\n      <td>1</td>\n      <td>47269</td>\n      <td>1</td>\n      <td>False</td>\n    </tr>\n    <tr>\n      <th>3384</th>\n      <td>93387</td>\n      <td>85</td>\n      <td>420244</td>\n      <td>False</td>\n      <td>3</td>\n      <td>3</td>\n      <td>1</td>\n      <td>4447</td>\n      <td>1</td>\n      <td>False</td>\n    </tr>\n    <tr>\n      <th>1331</th>\n      <td>91334</td>\n      <td>134</td>\n      <td>205504</td>\n      <td>True</td>\n      <td>2</td>\n      <td>2</td>\n      <td>1</td>\n      <td>45667</td>\n      <td>1</td>\n      <td>False</td>\n    </tr>\n    <tr>\n      <th>6757</th>\n      <td>96760</td>\n      <td>98</td>\n      <td>275560</td>\n      <td>True</td>\n      <td>4</td>\n      <td>2</td>\n      <td>3</td>\n      <td>59</td>\n      <td>1</td>\n      <td>False</td>\n    </tr>\n    <tr>\n      <th>8457</th>\n      <td>98460</td>\n      <td>98</td>\n      <td>186928</td>\n      <td>True</td>\n      <td>4</td>\n      <td>2</td>\n      <td>2</td>\n      <td>547</td>\n      <td>1</td>\n      <td>False</td>\n    </tr>\n    <tr>\n      <th>4144</th>\n      <td>94147</td>\n      <td>160</td>\n      <td>815344</td>\n      <td>False</td>\n      <td>2</td>\n      <td>31</td>\n      <td>1</td>\n      <td>3037</td>\n      <td>1</td>\n      <td>False</td>\n    </tr>\n    <tr>\n      <th>1599</th>\n      <td>91602</td>\n      <td>209</td>\n      <td>3173092</td>\n      <td>True</td>\n      <td>4</td>\n      <td>2</td>\n      <td>1</td>\n      <td>727</td>\n      <td>1</td>\n      <td>False</td>\n    </tr>\n    <tr>\n      <th>9723</th>\n      <td>99726</td>\n      <td>116</td>\n      <td>336580</td>\n      <td>True</td>\n      <td>4</td>\n      <td>2</td>\n      <td>1</td>\n      <td>1511</td>\n      <td>1</td>\n      <td>False</td>\n    </tr>\n    <tr>\n      <th>2502</th>\n      <td>92505</td>\n      <td>134</td>\n      <td>312208</td>\n      <td>False</td>\n      <td>4</td>\n      <td>3</td>\n      <td>1</td>\n      <td>881</td>\n      <td>1</td>\n      <td>False</td>\n    </tr>\n    <tr>\n      <th>9279</th>\n      <td>99282</td>\n      <td>116</td>\n      <td>424096</td>\n      <td>True</td>\n      <td>3</td>\n      <td>2</td>\n      <td>1</td>\n      <td>16547</td>\n      <td>1</td>\n      <td>False</td>\n    </tr>\n    <tr>\n      <th>2300</th>\n      <td>92303</td>\n      <td>178</td>\n      <td>934576</td>\n      <td>False</td>\n      <td>2</td>\n      <td>241</td>\n      <td>1</td>\n      <td>383</td>\n      <td>1</td>\n      <td>False</td>\n    </tr>\n    <tr>\n      <th>1482</th>\n      <td>91485</td>\n      <td>72</td>\n      <td>274456</td>\n      <td>False</td>\n      <td>4</td>\n      <td>3</td>\n      <td>2</td>\n      <td>107</td>\n      <td>1</td>\n      <td>False</td>\n    </tr>\n    <tr>\n      <th>8</th>\n      <td>90011</td>\n      <td>116</td>\n      <td>1025296</td>\n      <td>False</td>\n      <td>1</td>\n      <td>90011</td>\n      <td>1</td>\n      <td>90011</td>\n      <td>1</td>\n      <td>True</td>\n    </tr>\n    <tr>\n      <th>7230</th>\n      <td>97233</td>\n      <td>160</td>\n      <td>291700</td>\n      <td>False</td>\n      <td>2</td>\n      <td>3</td>\n      <td>1</td>\n      <td>32411</td>\n      <td>1</td>\n      <td>False</td>\n    </tr>\n    <tr>\n      <th>1704</th>\n      <td>91707</td>\n      <td>196</td>\n      <td>8153620</td>\n      <td>False</td>\n      <td>4</td>\n      <td>3</td>\n      <td>1</td>\n      <td>397</td>\n      <td>1</td>\n      <td>False</td>\n    </tr>\n    <tr>\n      <th>7092</th>\n      <td>97095</td>\n      <td>72</td>\n      <td>829492</td>\n      <td>False</td>\n      <td>3</td>\n      <td>3</td>\n      <td>1</td>\n      <td>6473</td>\n      <td>1</td>\n      <td>False</td>\n    </tr>\n    <tr>\n      <th>5514</th>\n      <td>95517</td>\n      <td>222</td>\n      <td>1276936</td>\n      <td>False</td>\n      <td>2</td>\n      <td>3</td>\n      <td>2</td>\n      <td>10613</td>\n      <td>1</td>\n      <td>False</td>\n    </tr>\n    <tr>\n      <th>4499</th>\n      <td>94502</td>\n      <td>85</td>\n      <td>255472</td>\n      <td>True</td>\n      <td>2</td>\n      <td>2</td>\n      <td>1</td>\n      <td>47251</td>\n      <td>1</td>\n      <td>False</td>\n    </tr>\n  </tbody>\n</table>\n</div>"
     },
     "execution_count": 6,
     "metadata": {},
     "output_type": "execute_result"
    }
   ]
  },
  {
   "cell_type": "code",
   "execution_count": null,
   "outputs": [],
   "source": [],
   "metadata": {
    "collapsed": false,
    "pycharm": {
     "name": "#%%\n"
    }
   }
  }
 ]
}
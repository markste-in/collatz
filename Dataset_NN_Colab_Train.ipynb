{
  "nbformat": 4,
  "nbformat_minor": 0,
  "metadata": {
    "colab": {
      "name": "Dataset NN_Colab_Train.ipynb",
      "provenance": [],
      "collapsed_sections": [],
      "authorship_tag": "ABX9TyM16O3JXKYlziBNNB3MOtq3",
      "include_colab_link": true
    },
    "kernelspec": {
      "name": "python3",
      "display_name": "Python 3"
    },
    "language_info": {
      "name": "python"
    },
    "accelerator": "GPU"
  },
  "cells": [
    {
      "cell_type": "markdown",
      "metadata": {
        "id": "view-in-github",
        "colab_type": "text"
      },
      "source": [
        "<a href=\"https://colab.research.google.com/github/markste-in/collatz/blob/main/Dataset_NN_Colab_Train.ipynb\" target=\"_parent\"><img src=\"https://colab.research.google.com/assets/colab-badge.svg\" alt=\"Open In Colab\"/></a>"
      ]
    },
    {
      "cell_type": "code",
      "metadata": {
        "id": "T_tDc-oMEY22",
        "colab": {
          "base_uri": "https://localhost:8080/"
        },
        "outputId": "baebc68c-77b4-44ab-b1c6-15f1f47fd157"
      },
      "source": [
        "from google.colab import drive\n",
        "drive.mount('/content/gdrive')"
      ],
      "execution_count": 1,
      "outputs": [
        {
          "output_type": "stream",
          "text": [
            "Drive already mounted at /content/gdrive; to attempt to forcibly remount, call drive.mount(\"/content/gdrive\", force_remount=True).\n"
          ],
          "name": "stdout"
        }
      ]
    },
    {
      "cell_type": "code",
      "metadata": {
        "id": "C1W7RaNJ_MGs"
      },
      "source": [
        "import torch\n",
        "import torch.nn as nn\n",
        "import torch.nn.functional as F\n",
        "import matplotlib.pyplot as plt\n",
        "import tqdm\n",
        "import numpy as np"
      ],
      "execution_count": 2,
      "outputs": []
    },
    {
      "cell_type": "code",
      "metadata": {
        "colab": {
          "base_uri": "https://localhost:8080/"
        },
        "id": "FBosOAs6PUdt",
        "outputId": "bc4072b3-1e68-4198-b94d-35478f747a57"
      },
      "source": [
        "device = torch.device('cuda' if torch.cuda.is_available() else 'cpu')\n",
        "print(\"Working with\",device)"
      ],
      "execution_count": 3,
      "outputs": [
        {
          "output_type": "stream",
          "text": [
            "Working with cuda\n"
          ],
          "name": "stdout"
        }
      ]
    },
    {
      "cell_type": "code",
      "metadata": {
        "id": "yWpLqCT2Etw6"
      },
      "source": [
        "import pandas as pd"
      ],
      "execution_count": 4,
      "outputs": []
    },
    {
      "cell_type": "code",
      "metadata": {
        "id": "XP9_YH1NmBeS"
      },
      "source": [
        "import glob\n",
        "files = glob.glob(\"gdrive/MyDrive/collatz_dbs/*.parquet\")\n"
      ],
      "execution_count": 7,
      "outputs": []
    },
    {
      "cell_type": "code",
      "metadata": {
        "id": "Cy8WQ25amLfp"
      },
      "source": [
        " data = [pd.read_parquet(f) for f in files]\n",
        " df = pd.concat(data,ignore_index=True)"
      ],
      "execution_count": 8,
      "outputs": []
    },
    {
      "cell_type": "code",
      "metadata": {
        "colab": {
          "base_uri": "https://localhost:8080/"
        },
        "id": "7fEqs0kImd7v",
        "outputId": "6a96acc9-e444-4087-df6d-d038aaeab119"
      },
      "source": [
        "df.info()"
      ],
      "execution_count": 9,
      "outputs": [
        {
          "output_type": "stream",
          "text": [
            "<class 'pandas.core.frame.DataFrame'>\n",
            "RangeIndex: 8000000 entries, 0 to 7999999\n",
            "Data columns (total 30 columns):\n",
            " #   Column              Dtype\n",
            "---  ------              -----\n",
            " 0   Number              int64\n",
            " 1   Length              int64\n",
            " 2   Max                 int64\n",
            " 3   IsEven              bool \n",
            " 4   nPrimes             int64\n",
            " 5   Smallest_Prime      int64\n",
            " 6   nSmallest_Prim      int64\n",
            " 7   Biggest_Prime       int64\n",
            " 8   nBiggest_Prime      int64\n",
            " 9   isPrime             bool \n",
            " 10  preNumber           int64\n",
            " 11  preLength           int64\n",
            " 12  preMax              int64\n",
            " 13  preIsEven           bool \n",
            " 14  prenPrimes          int64\n",
            " 15  preSmallest_Prime   int64\n",
            " 16  prenSmallest_Prim   int64\n",
            " 17  preBiggest_Prime    int64\n",
            " 18  prenBiggest_Prime   int64\n",
            " 19  preisPrime          bool \n",
            " 20  postNumber          int64\n",
            " 21  postLength          int64\n",
            " 22  postMax             int64\n",
            " 23  postIsEven          bool \n",
            " 24  postnPrimes         int64\n",
            " 25  postSmallest_Prime  int64\n",
            " 26  postnSmallest_Prim  int64\n",
            " 27  postBiggest_Prime   int64\n",
            " 28  postnBiggest_Prime  int64\n",
            " 29  postisPrime         bool \n",
            "dtypes: bool(6), int64(24)\n",
            "memory usage: 1.5 GB\n"
          ],
          "name": "stdout"
        }
      ]
    },
    {
      "cell_type": "code",
      "metadata": {
        "colab": {
          "base_uri": "https://localhost:8080/",
          "height": 224
        },
        "id": "ZtwKXU_QFCne",
        "outputId": "2bae1f5d-ae1a-45b6-9060-56c76be4356c"
      },
      "source": [
        "df.sample(5)"
      ],
      "execution_count": 10,
      "outputs": [
        {
          "output_type": "execute_result",
          "data": {
            "text/html": [
              "<div>\n",
              "<style scoped>\n",
              "    .dataframe tbody tr th:only-of-type {\n",
              "        vertical-align: middle;\n",
              "    }\n",
              "\n",
              "    .dataframe tbody tr th {\n",
              "        vertical-align: top;\n",
              "    }\n",
              "\n",
              "    .dataframe thead th {\n",
              "        text-align: right;\n",
              "    }\n",
              "</style>\n",
              "<table border=\"1\" class=\"dataframe\">\n",
              "  <thead>\n",
              "    <tr style=\"text-align: right;\">\n",
              "      <th></th>\n",
              "      <th>Number</th>\n",
              "      <th>Length</th>\n",
              "      <th>Max</th>\n",
              "      <th>IsEven</th>\n",
              "      <th>nPrimes</th>\n",
              "      <th>Smallest_Prime</th>\n",
              "      <th>nSmallest_Prim</th>\n",
              "      <th>Biggest_Prime</th>\n",
              "      <th>nBiggest_Prime</th>\n",
              "      <th>isPrime</th>\n",
              "      <th>preNumber</th>\n",
              "      <th>preLength</th>\n",
              "      <th>preMax</th>\n",
              "      <th>preIsEven</th>\n",
              "      <th>prenPrimes</th>\n",
              "      <th>preSmallest_Prime</th>\n",
              "      <th>prenSmallest_Prim</th>\n",
              "      <th>preBiggest_Prime</th>\n",
              "      <th>prenBiggest_Prime</th>\n",
              "      <th>preisPrime</th>\n",
              "      <th>postNumber</th>\n",
              "      <th>postLength</th>\n",
              "      <th>postMax</th>\n",
              "      <th>postIsEven</th>\n",
              "      <th>postnPrimes</th>\n",
              "      <th>postSmallest_Prime</th>\n",
              "      <th>postnSmallest_Prim</th>\n",
              "      <th>postBiggest_Prime</th>\n",
              "      <th>postnBiggest_Prime</th>\n",
              "      <th>postisPrime</th>\n",
              "    </tr>\n",
              "  </thead>\n",
              "  <tbody>\n",
              "    <tr>\n",
              "      <th>286028</th>\n",
              "      <td>8709500</td>\n",
              "      <td>181</td>\n",
              "      <td>33068896</td>\n",
              "      <td>True</td>\n",
              "      <td>3</td>\n",
              "      <td>2</td>\n",
              "      <td>2</td>\n",
              "      <td>17419</td>\n",
              "      <td>1</td>\n",
              "      <td>False</td>\n",
              "      <td>8709499</td>\n",
              "      <td>93</td>\n",
              "      <td>44091844</td>\n",
              "      <td>False</td>\n",
              "      <td>3</td>\n",
              "      <td>71</td>\n",
              "      <td>1</td>\n",
              "      <td>509</td>\n",
              "      <td>1</td>\n",
              "      <td>False</td>\n",
              "      <td>8709501</td>\n",
              "      <td>181</td>\n",
              "      <td>33068896</td>\n",
              "      <td>False</td>\n",
              "      <td>3</td>\n",
              "      <td>3</td>\n",
              "      <td>1</td>\n",
              "      <td>21191</td>\n",
              "      <td>1</td>\n",
              "      <td>False</td>\n",
              "    </tr>\n",
              "    <tr>\n",
              "      <th>4556651</th>\n",
              "      <td>2177566</td>\n",
              "      <td>117</td>\n",
              "      <td>11023936</td>\n",
              "      <td>True</td>\n",
              "      <td>2</td>\n",
              "      <td>2</td>\n",
              "      <td>1</td>\n",
              "      <td>1088783</td>\n",
              "      <td>1</td>\n",
              "      <td>False</td>\n",
              "      <td>2177565</td>\n",
              "      <td>117</td>\n",
              "      <td>6532696</td>\n",
              "      <td>False</td>\n",
              "      <td>4</td>\n",
              "      <td>3</td>\n",
              "      <td>1</td>\n",
              "      <td>859</td>\n",
              "      <td>1</td>\n",
              "      <td>False</td>\n",
              "      <td>2177567</td>\n",
              "      <td>179</td>\n",
              "      <td>33071812</td>\n",
              "      <td>False</td>\n",
              "      <td>3</td>\n",
              "      <td>7</td>\n",
              "      <td>1</td>\n",
              "      <td>4643</td>\n",
              "      <td>1</td>\n",
              "      <td>False</td>\n",
              "    </tr>\n",
              "    <tr>\n",
              "      <th>5050095</th>\n",
              "      <td>8479790</td>\n",
              "      <td>106</td>\n",
              "      <td>28619296</td>\n",
              "      <td>True</td>\n",
              "      <td>5</td>\n",
              "      <td>2</td>\n",
              "      <td>1</td>\n",
              "      <td>607</td>\n",
              "      <td>1</td>\n",
              "      <td>False</td>\n",
              "      <td>8479789</td>\n",
              "      <td>106</td>\n",
              "      <td>25439368</td>\n",
              "      <td>False</td>\n",
              "      <td>2</td>\n",
              "      <td>641</td>\n",
              "      <td>1</td>\n",
              "      <td>13229</td>\n",
              "      <td>1</td>\n",
              "      <td>False</td>\n",
              "      <td>8479791</td>\n",
              "      <td>168</td>\n",
              "      <td>85857892</td>\n",
              "      <td>False</td>\n",
              "      <td>2</td>\n",
              "      <td>3</td>\n",
              "      <td>2</td>\n",
              "      <td>942199</td>\n",
              "      <td>1</td>\n",
              "      <td>False</td>\n",
              "    </tr>\n",
              "    <tr>\n",
              "      <th>4149277</th>\n",
              "      <td>5169060</td>\n",
              "      <td>100</td>\n",
              "      <td>18629656</td>\n",
              "      <td>True</td>\n",
              "      <td>5</td>\n",
              "      <td>2</td>\n",
              "      <td>2</td>\n",
              "      <td>47</td>\n",
              "      <td>2</td>\n",
              "      <td>False</td>\n",
              "      <td>5169059</td>\n",
              "      <td>113</td>\n",
              "      <td>23260768</td>\n",
              "      <td>False</td>\n",
              "      <td>2</td>\n",
              "      <td>7</td>\n",
              "      <td>2</td>\n",
              "      <td>105491</td>\n",
              "      <td>1</td>\n",
              "      <td>False</td>\n",
              "      <td>5169061</td>\n",
              "      <td>100</td>\n",
              "      <td>18629656</td>\n",
              "      <td>False</td>\n",
              "      <td>1</td>\n",
              "      <td>5169061</td>\n",
              "      <td>1</td>\n",
              "      <td>5169061</td>\n",
              "      <td>1</td>\n",
              "      <td>True</td>\n",
              "    </tr>\n",
              "    <tr>\n",
              "      <th>5740170</th>\n",
              "      <td>3319947</td>\n",
              "      <td>177</td>\n",
              "      <td>80765908</td>\n",
              "      <td>False</td>\n",
              "      <td>3</td>\n",
              "      <td>3</td>\n",
              "      <td>4</td>\n",
              "      <td>2411</td>\n",
              "      <td>1</td>\n",
              "      <td>False</td>\n",
              "      <td>3319946</td>\n",
              "      <td>115</td>\n",
              "      <td>4979920</td>\n",
              "      <td>True</td>\n",
              "      <td>4</td>\n",
              "      <td>2</td>\n",
              "      <td>1</td>\n",
              "      <td>1783</td>\n",
              "      <td>1</td>\n",
              "      <td>False</td>\n",
              "      <td>3319948</td>\n",
              "      <td>115</td>\n",
              "      <td>3734944</td>\n",
              "      <td>True</td>\n",
              "      <td>2</td>\n",
              "      <td>2</td>\n",
              "      <td>2</td>\n",
              "      <td>829987</td>\n",
              "      <td>1</td>\n",
              "      <td>False</td>\n",
              "    </tr>\n",
              "  </tbody>\n",
              "</table>\n",
              "</div>"
            ],
            "text/plain": [
              "          Number  Length  ...  postnBiggest_Prime  postisPrime\n",
              "286028   8709500     181  ...                   1        False\n",
              "4556651  2177566     117  ...                   1        False\n",
              "5050095  8479790     106  ...                   1        False\n",
              "4149277  5169060     100  ...                   1         True\n",
              "5740170  3319947     177  ...                   1        False\n",
              "\n",
              "[5 rows x 30 columns]"
            ]
          },
          "metadata": {
            "tags": []
          },
          "execution_count": 10
        }
      ]
    },
    {
      "cell_type": "code",
      "metadata": {
        "id": "qNaJDb1JFqjK"
      },
      "source": [
        "x =df.loc[:, df.columns != 'Length'].values.astype('int64')\n",
        "y = df[\"Length\"].values\n",
        "x = torch.tensor(x).float().to(device)\n",
        "y = torch.tensor(y).float().to(device)"
      ],
      "execution_count": 11,
      "outputs": []
    },
    {
      "cell_type": "code",
      "metadata": {
        "id": "tAicuAeAD760"
      },
      "source": [
        "input_size = x.shape[1]\n",
        "class NN(nn.Module):\n",
        "\n",
        "    def __init__(self):\n",
        "        super().__init__()\n",
        "\n",
        "        self.fc1 = nn.Linear(input_size,800)\n",
        "        self.b1 = nn.BatchNorm1d(800)\n",
        "        self.fc2 = nn.Linear(800,800)\n",
        "        self.b22 = nn.BatchNorm1d(800)\n",
        "        self.fc22 = nn.Linear(800,400)\n",
        "        self.b2 = nn.BatchNorm1d(400)\n",
        "        self.fc3 = nn.Linear(400, 1)\n",
        "\n",
        "    def forward(self,x):\n",
        "        x = F.relu(self.fc1(x))\n",
        "        x = self.b1(x)\n",
        "        x = F.relu(self.fc2(x))\n",
        "        x = self.b22(x)\n",
        "        x = F.relu(self.fc22(x ))\n",
        "        x = self.b2(x)\n",
        "        x = self.fc3(x)\n",
        "\n",
        "        return x\n",
        "\n",
        "def collatz_iter(n : int) -> int:\n",
        "    iter = 0\n",
        "    while (n>1):\n",
        "        if n%2 == 0:\n",
        "            n =n / 2\n",
        "        else:\n",
        "            n = n*3+1\n",
        "        iter+=1\n",
        "    return iter\n"
      ],
      "execution_count": 12,
      "outputs": []
    },
    {
      "cell_type": "code",
      "metadata": {
        "id": "zxCU7KFRMzy_"
      },
      "source": [
        "PATH =  \"gdrive/MyDrive/collatz_model2.pt\""
      ],
      "execution_count": 13,
      "outputs": []
    },
    {
      "cell_type": "code",
      "metadata": {
        "id": "7aiAGAd7_Or3"
      },
      "source": [
        "batch_size = 300\n",
        "model = NN().to(device)\n",
        "opt = torch.optim.Adam(params=model.parameters(),lr = 0.1)\n",
        "losses = list()\n"
      ],
      "execution_count": 14,
      "outputs": []
    },
    {
      "cell_type": "code",
      "metadata": {
        "colab": {
          "base_uri": "https://localhost:8080/"
        },
        "id": "6aIxWz8N_QSf",
        "outputId": "bc8e313e-a95a-4451-8cb7-98922146e1f6"
      },
      "source": [
        "try:\n",
        "  model.load_state_dict(torch.load(PATH,map_location=torch.device(device)))\n",
        "  print(\"Previous model loaded\")\n",
        "except:\n",
        "  print(\"No old model found. Train from scratch\")"
      ],
      "execution_count": 15,
      "outputs": [
        {
          "output_type": "stream",
          "text": [
            "No old model found. Train from scratch\n"
          ],
          "name": "stdout"
        }
      ]
    },
    {
      "cell_type": "code",
      "metadata": {
        "id": "pNAvhXLsL-Uj"
      },
      "source": [
        "def batches(x,y, batch_size = 32):\n",
        "  idx = np.random.randint(1,x.shape[0],batch_size)\n",
        "  return x[idx,:],y[idx]"
      ],
      "execution_count": 16,
      "outputs": []
    },
    {
      "cell_type": "code",
      "metadata": {
        "colab": {
          "base_uri": "https://localhost:8080/"
        },
        "id": "aJwdggGRFJHs",
        "outputId": "a7947109-5b19-48d1-bcd5-91f82625ba35"
      },
      "source": [
        "t = tqdm.trange(1000000, desc='Bar desc', leave=True)\n",
        "for i in t:\n",
        "    _x, _y = batches(x,y)\n",
        "    opt.zero_grad()\n",
        "    pred = model(_x)\n",
        "    loss = ((_y-pred)**2).sum()\n",
        "    loss.backward()\n",
        "    losses.append(loss.cpu().detach().numpy())\n",
        "    opt.step()\n",
        "    if i%100 ==0:\n",
        "      torch.save(model.state_dict(), PATH)\n",
        "    if i%30==0:\n",
        "      t.set_description(\"Last loss %i\" % losses[-1])\n",
        "      t.refresh() # to show immediately the update"
      ],
      "execution_count": 17,
      "outputs": [
        {
          "output_type": "stream",
          "text": [
            "Last loss 4541233: 100%|██████████| 1000000/1000000 [1:25:22<00:00, 195.23it/s]\n"
          ],
          "name": "stderr"
        }
      ]
    },
    {
      "cell_type": "code",
      "metadata": {
        "id": "M0nQRSqJ_RzZ",
        "colab": {
          "base_uri": "https://localhost:8080/",
          "height": 289
        },
        "outputId": "f5c1c574-f1cc-4cc3-ebed-396a63bb9f07"
      },
      "source": [
        "plt.plot(losses)\n",
        "#plt.yscale(\"log\")\n",
        "plt.show()"
      ],
      "execution_count": 18,
      "outputs": [
        {
          "output_type": "display_data",
          "data": {
            "image/png": "[encoded data removed]",
            "text/plain": [
              "<Figure size 432x288 with 1 Axes>"
            ]
          },
          "metadata": {
            "tags": [],
            "needs_background": "light"
          }
        }
      ]
    },
    {
      "cell_type": "code",
      "metadata": {
        "colab": {
          "base_uri": "https://localhost:8080/"
        },
        "id": "Z0ZuyIGg4pF4",
        "outputId": "ff19d3e4-208d-45e1-cfab-c4c91bddee1f"
      },
      "source": [
        "x[1,:]"
      ],
      "execution_count": 22,
      "outputs": [
        {
          "output_type": "execute_result",
          "data": {
            "text/plain": [
              "tensor([3.0235e+04, 5.1662e+05, 0.0000e+00, 2.0000e+00, 5.0000e+00, 1.0000e+00,\n",
              "        6.0470e+03, 1.0000e+00, 0.0000e+00, 3.0234e+04, 8.5000e+01, 4.5352e+04,\n",
              "        1.0000e+00, 3.0000e+00, 2.0000e+00, 1.0000e+00, 5.0390e+03, 1.0000e+00,\n",
              "        0.0000e+00, 3.0236e+04, 1.3400e+02, 5.1028e+04, 1.0000e+00, 2.0000e+00,\n",
              "        2.0000e+00, 2.0000e+00, 7.5590e+03, 1.0000e+00, 0.0000e+00],\n",
              "       device='cuda:0')"
            ]
          },
          "metadata": {
            "tags": []
          },
          "execution_count": 22
        }
      ]
    },
    {
      "cell_type": "code",
      "metadata": {
        "colab": {
          "base_uri": "https://localhost:8080/"
        },
        "id": "dvEjh3vJK1uT",
        "outputId": "163ba340-fd11-4b87-99b9-8ecf0e665e8f"
      },
      "source": [
        "_y,pred"
      ],
      "execution_count": 20,
      "outputs": [
        {
          "output_type": "execute_result",
          "data": {
            "text/plain": [
              "(tensor([110., 160.,  95.,  93.,  80., 261., 201., 153.,  75., 191., 142., 137.,\n",
              "         172., 118., 147., 189., 108.,  90., 105., 173., 190.,  98., 144., 225.,\n",
              "         147., 151., 105.,  93., 143., 162., 138., 216.], device='cuda:0'),\n",
              " tensor([[151.5828],\n",
              "         [151.5785],\n",
              "         [151.5715],\n",
              "         [151.5710],\n",
              "         [153.0688],\n",
              "         [151.5838],\n",
              "         [152.0977],\n",
              "         [151.5769],\n",
              "         [151.5843],\n",
              "         [151.5786],\n",
              "         [151.5786],\n",
              "         [151.5751],\n",
              "         [151.5739],\n",
              "         [151.5748],\n",
              "         [152.0935],\n",
              "         [151.5758],\n",
              "         [151.5750],\n",
              "         [152.0225],\n",
              "         [151.5935],\n",
              "         [151.6558],\n",
              "         [151.9326],\n",
              "         [151.6104],\n",
              "         [151.5747],\n",
              "         [151.5855],\n",
              "         [151.5748],\n",
              "         [156.8568],\n",
              "         [152.0018],\n",
              "         [151.5748],\n",
              "         [151.5780],\n",
              "         [151.5748],\n",
              "         [151.5776],\n",
              "         [156.6312]], device='cuda:0', grad_fn=<AddmmBackward>))"
            ]
          },
          "metadata": {
            "tags": []
          },
          "execution_count": 20
        }
      ]
    },
    {
      "cell_type": "code",
      "metadata": {
        "id": "dPcgzEBV5Bcc"
      },
      "source": [
        ""
      ],
      "execution_count": 31,
      "outputs": []
    },
    {
      "cell_type": "code",
      "metadata": {
        "colab": {
          "base_uri": "https://localhost:8080/"
        },
        "id": "kdv8Vueu5H7X",
        "outputId": "03e547e6-e667-4130-aadd-8253fe6108aa"
      },
      "source": [
        "for i in range(10):\n",
        "  test = torch.tensor(np.random.randint(1e7))\n",
        "  print(test - test.float().int())"
      ],
      "execution_count": 23,
      "outputs": [
        {
          "output_type": "stream",
          "text": [
            "tensor(0)\n",
            "tensor(0)\n",
            "tensor(0)\n",
            "tensor(0)\n",
            "tensor(0)\n",
            "tensor(0)\n",
            "tensor(0)\n",
            "tensor(0)\n",
            "tensor(0)\n",
            "tensor(0)\n"
          ],
          "name": "stdout"
        }
      ]
    },
    {
      "cell_type": "code",
      "metadata": {
        "id": "lvKqntxq5PUw"
      },
      "source": [
        ""
      ],
      "execution_count": null,
      "outputs": []
    }
  ]
}
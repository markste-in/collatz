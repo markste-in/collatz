{
  "nbformat": 4,
  "nbformat_minor": 0,
  "metadata": {
    "colab": {
      "name": "Dataset NN_Colab_Train.ipynb",
      "provenance": [],
      "collapsed_sections": [],
      "authorship_tag": "ABX9TyM6oySWZ/BjdL/6xrIEFuo9",
      "include_colab_link": true
    },
    "kernelspec": {
      "name": "python3",
      "display_name": "Python 3"
    },
    "language_info": {
      "name": "python"
    },
    "accelerator": "GPU"
  },
  "cells": [
    {
      "cell_type": "markdown",
      "metadata": {
        "id": "view-in-github",
        "colab_type": "text"
      },
      "source": [
        "<a href=\"https://colab.research.google.com/github/markste-in/collatz/blob/main/Dataset_NN_Colab_Train.ipynb\" target=\"_parent\"><img src=\"https://colab.research.google.com/assets/colab-badge.svg\" alt=\"Open In Colab\"/></a>"
      ]
    },
    {
      "cell_type": "code",
      "metadata": {
        "id": "T_tDc-oMEY22",
        "colab": {
          "base_uri": "https://localhost:8080/"
        },
        "outputId": "07fb4f8d-7519-4a29-c71e-bc2282460b3c"
      },
      "source": [
        "from google.colab import drive\n",
        "drive.mount('/content/gdrive')"
      ],
      "execution_count": 1,
      "outputs": [
        {
          "output_type": "stream",
          "text": [
            "Mounted at /content/gdrive\n"
          ],
          "name": "stdout"
        }
      ]
    },
    {
      "cell_type": "code",
      "metadata": {
        "id": "C1W7RaNJ_MGs"
      },
      "source": [
        "import torch\n",
        "import torch.nn as nn\n",
        "import torch.nn.functional as F\n",
        "import matplotlib.pyplot as plt\n",
        "import tqdm\n",
        "import numpy as np"
      ],
      "execution_count": 2,
      "outputs": []
    },
    {
      "cell_type": "code",
      "metadata": {
        "colab": {
          "base_uri": "https://localhost:8080/"
        },
        "id": "FBosOAs6PUdt",
        "outputId": "071c9e9d-ae69-4163-b1a1-58fd6fa83c21"
      },
      "source": [
        "device = torch.device('cuda' if torch.cuda.is_available() else 'cpu')\n",
        "print(\"Working with\",device)"
      ],
      "execution_count": 3,
      "outputs": [
        {
          "output_type": "stream",
          "text": [
            "Working with cpu\n"
          ],
          "name": "stdout"
        }
      ]
    },
    {
      "cell_type": "code",
      "metadata": {
        "id": "yWpLqCT2Etw6"
      },
      "source": [
        "import pandas as pd"
      ],
      "execution_count": 4,
      "outputs": []
    },
    {
      "cell_type": "code",
      "metadata": {
        "id": "XP9_YH1NmBeS"
      },
      "source": [
        "import glob\n",
        "files = glob.glob(\"gdrive/MyDrive/collatz_dbs/*.parquet\")\n"
      ],
      "execution_count": 8,
      "outputs": []
    },
    {
      "cell_type": "code",
      "metadata": {
        "id": "Cy8WQ25amLfp"
      },
      "source": [
        " data = [pd.read_parquet(f) for f in files]\n",
        " df = pd.concat(data,ignore_index=True)"
      ],
      "execution_count": 11,
      "outputs": []
    },
    {
      "cell_type": "code",
      "metadata": {
        "colab": {
          "base_uri": "https://localhost:8080/"
        },
        "id": "7fEqs0kImd7v",
        "outputId": "a4c19ccb-f8e5-4926-fbc7-42d177e46a01"
      },
      "source": [
        "df.info()"
      ],
      "execution_count": 12,
      "outputs": [
        {
          "output_type": "stream",
          "text": [
            "<class 'pandas.core.frame.DataFrame'>\n",
            "RangeIndex: 200000 entries, 0 to 199999\n",
            "Data columns (total 30 columns):\n",
            " #   Column              Non-Null Count   Dtype\n",
            "---  ------              --------------   -----\n",
            " 0   Number              200000 non-null  int64\n",
            " 1   Length              200000 non-null  int64\n",
            " 2   Max                 200000 non-null  int64\n",
            " 3   IsEven              200000 non-null  bool \n",
            " 4   nPrimes             200000 non-null  int64\n",
            " 5   Smallest_Prime      200000 non-null  int64\n",
            " 6   nSmallest_Prim      200000 non-null  int64\n",
            " 7   Biggest_Prime       200000 non-null  int64\n",
            " 8   nBiggest_Prime      200000 non-null  int64\n",
            " 9   isPrime             200000 non-null  bool \n",
            " 10  preNumber           200000 non-null  int64\n",
            " 11  preLength           200000 non-null  int64\n",
            " 12  preMax              200000 non-null  int64\n",
            " 13  preIsEven           200000 non-null  bool \n",
            " 14  prenPrimes          200000 non-null  int64\n",
            " 15  preSmallest_Prime   200000 non-null  int64\n",
            " 16  prenSmallest_Prim   200000 non-null  int64\n",
            " 17  preBiggest_Prime    200000 non-null  int64\n",
            " 18  prenBiggest_Prime   200000 non-null  int64\n",
            " 19  preisPrime          200000 non-null  bool \n",
            " 20  postNumber          200000 non-null  int64\n",
            " 21  postLength          200000 non-null  int64\n",
            " 22  postMax             200000 non-null  int64\n",
            " 23  postIsEven          200000 non-null  bool \n",
            " 24  postnPrimes         200000 non-null  int64\n",
            " 25  postSmallest_Prime  200000 non-null  int64\n",
            " 26  postnSmallest_Prim  200000 non-null  int64\n",
            " 27  postBiggest_Prime   200000 non-null  int64\n",
            " 28  postnBiggest_Prime  200000 non-null  int64\n",
            " 29  postisPrime         200000 non-null  bool \n",
            "dtypes: bool(6), int64(24)\n",
            "memory usage: 37.8 MB\n"
          ],
          "name": "stdout"
        }
      ]
    },
    {
      "cell_type": "code",
      "metadata": {
        "colab": {
          "base_uri": "https://localhost:8080/",
          "height": 224
        },
        "id": "ZtwKXU_QFCne",
        "outputId": "95b03c32-723d-4c74-dc7e-6df4a0573d3f"
      },
      "source": [
        "df.sample(5)"
      ],
      "execution_count": 13,
      "outputs": [
        {
          "output_type": "execute_result",
          "data": {
            "text/html": [
              "<div>\n",
              "<style scoped>\n",
              "    .dataframe tbody tr th:only-of-type {\n",
              "        vertical-align: middle;\n",
              "    }\n",
              "\n",
              "    .dataframe tbody tr th {\n",
              "        vertical-align: top;\n",
              "    }\n",
              "\n",
              "    .dataframe thead th {\n",
              "        text-align: right;\n",
              "    }\n",
              "</style>\n",
              "<table border=\"1\" class=\"dataframe\">\n",
              "  <thead>\n",
              "    <tr style=\"text-align: right;\">\n",
              "      <th></th>\n",
              "      <th>Number</th>\n",
              "      <th>Length</th>\n",
              "      <th>Max</th>\n",
              "      <th>IsEven</th>\n",
              "      <th>nPrimes</th>\n",
              "      <th>Smallest_Prime</th>\n",
              "      <th>nSmallest_Prim</th>\n",
              "      <th>Biggest_Prime</th>\n",
              "      <th>nBiggest_Prime</th>\n",
              "      <th>isPrime</th>\n",
              "      <th>preNumber</th>\n",
              "      <th>preLength</th>\n",
              "      <th>preMax</th>\n",
              "      <th>preIsEven</th>\n",
              "      <th>prenPrimes</th>\n",
              "      <th>preSmallest_Prime</th>\n",
              "      <th>prenSmallest_Prim</th>\n",
              "      <th>preBiggest_Prime</th>\n",
              "      <th>prenBiggest_Prime</th>\n",
              "      <th>preisPrime</th>\n",
              "      <th>postNumber</th>\n",
              "      <th>postLength</th>\n",
              "      <th>postMax</th>\n",
              "      <th>postIsEven</th>\n",
              "      <th>postnPrimes</th>\n",
              "      <th>postSmallest_Prime</th>\n",
              "      <th>postnSmallest_Prim</th>\n",
              "      <th>postBiggest_Prime</th>\n",
              "      <th>postnBiggest_Prime</th>\n",
              "      <th>postisPrime</th>\n",
              "    </tr>\n",
              "  </thead>\n",
              "  <tbody>\n",
              "    <tr>\n",
              "      <th>185186</th>\n",
              "      <td>213630119373</td>\n",
              "      <td>118</td>\n",
              "      <td>640890358120</td>\n",
              "      <td>False</td>\n",
              "      <td>5</td>\n",
              "      <td>3</td>\n",
              "      <td>1</td>\n",
              "      <td>433861</td>\n",
              "      <td>1</td>\n",
              "      <td>False</td>\n",
              "      <td>213630119372</td>\n",
              "      <td>118</td>\n",
              "      <td>240333884296</td>\n",
              "      <td>True</td>\n",
              "      <td>2</td>\n",
              "      <td>2</td>\n",
              "      <td>2</td>\n",
              "      <td>53407529843</td>\n",
              "      <td>1</td>\n",
              "      <td>False</td>\n",
              "      <td>213630119374</td>\n",
              "      <td>273</td>\n",
              "      <td>3897805169860</td>\n",
              "      <td>True</td>\n",
              "      <td>4</td>\n",
              "      <td>2</td>\n",
              "      <td>1</td>\n",
              "      <td>151609</td>\n",
              "      <td>1</td>\n",
              "      <td>False</td>\n",
              "    </tr>\n",
              "    <tr>\n",
              "      <th>27663</th>\n",
              "      <td>692896089771</td>\n",
              "      <td>192</td>\n",
              "      <td>3118032403972</td>\n",
              "      <td>False</td>\n",
              "      <td>3</td>\n",
              "      <td>3</td>\n",
              "      <td>2</td>\n",
              "      <td>228452387</td>\n",
              "      <td>1</td>\n",
              "      <td>False</td>\n",
              "      <td>692896089770</td>\n",
              "      <td>187</td>\n",
              "      <td>1039344134656</td>\n",
              "      <td>True</td>\n",
              "      <td>4</td>\n",
              "      <td>2</td>\n",
              "      <td>1</td>\n",
              "      <td>2598133</td>\n",
              "      <td>1</td>\n",
              "      <td>False</td>\n",
              "      <td>692896089772</td>\n",
              "      <td>192</td>\n",
              "      <td>1109885557876</td>\n",
              "      <td>True</td>\n",
              "      <td>4</td>\n",
              "      <td>2</td>\n",
              "      <td>2</td>\n",
              "      <td>6004507</td>\n",
              "      <td>1</td>\n",
              "      <td>False</td>\n",
              "    </tr>\n",
              "    <tr>\n",
              "      <th>133237</th>\n",
              "      <td>337569158862</td>\n",
              "      <td>341</td>\n",
              "      <td>6488646244072</td>\n",
              "      <td>True</td>\n",
              "      <td>5</td>\n",
              "      <td>2</td>\n",
              "      <td>1</td>\n",
              "      <td>1875947</td>\n",
              "      <td>1</td>\n",
              "      <td>False</td>\n",
              "      <td>337569158861</td>\n",
              "      <td>297</td>\n",
              "      <td>1012707476584</td>\n",
              "      <td>False</td>\n",
              "      <td>2</td>\n",
              "      <td>11</td>\n",
              "      <td>1</td>\n",
              "      <td>30688105351</td>\n",
              "      <td>1</td>\n",
              "      <td>False</td>\n",
              "      <td>337569158863</td>\n",
              "      <td>341</td>\n",
              "      <td>6488646244072</td>\n",
              "      <td>False</td>\n",
              "      <td>2</td>\n",
              "      <td>47</td>\n",
              "      <td>1</td>\n",
              "      <td>7182322529</td>\n",
              "      <td>1</td>\n",
              "      <td>False</td>\n",
              "    </tr>\n",
              "    <tr>\n",
              "      <th>31336</th>\n",
              "      <td>283092209050</td>\n",
              "      <td>289</td>\n",
              "      <td>424638313576</td>\n",
              "      <td>True</td>\n",
              "      <td>6</td>\n",
              "      <td>2</td>\n",
              "      <td>1</td>\n",
              "      <td>101117</td>\n",
              "      <td>1</td>\n",
              "      <td>False</td>\n",
              "      <td>283092209049</td>\n",
              "      <td>364</td>\n",
              "      <td>955436205544</td>\n",
              "      <td>False</td>\n",
              "      <td>4</td>\n",
              "      <td>3</td>\n",
              "      <td>1</td>\n",
              "      <td>6906541</td>\n",
              "      <td>1</td>\n",
              "      <td>False</td>\n",
              "      <td>283092209051</td>\n",
              "      <td>333</td>\n",
              "      <td>24820864630576</td>\n",
              "      <td>False</td>\n",
              "      <td>1</td>\n",
              "      <td>283092209051</td>\n",
              "      <td>1</td>\n",
              "      <td>283092209051</td>\n",
              "      <td>1</td>\n",
              "      <td>True</td>\n",
              "    </tr>\n",
              "    <tr>\n",
              "      <th>138840</th>\n",
              "      <td>739555766412</td>\n",
              "      <td>262</td>\n",
              "      <td>832000237216</td>\n",
              "      <td>True</td>\n",
              "      <td>4</td>\n",
              "      <td>2</td>\n",
              "      <td>2</td>\n",
              "      <td>2686207</td>\n",
              "      <td>1</td>\n",
              "      <td>False</td>\n",
              "      <td>739555766411</td>\n",
              "      <td>342</td>\n",
              "      <td>24983970710020</td>\n",
              "      <td>False</td>\n",
              "      <td>3</td>\n",
              "      <td>7</td>\n",
              "      <td>1</td>\n",
              "      <td>9604620343</td>\n",
              "      <td>1</td>\n",
              "      <td>False</td>\n",
              "      <td>739555766413</td>\n",
              "      <td>262</td>\n",
              "      <td>2218667299240</td>\n",
              "      <td>False</td>\n",
              "      <td>2</td>\n",
              "      <td>2141</td>\n",
              "      <td>1</td>\n",
              "      <td>345425393</td>\n",
              "      <td>1</td>\n",
              "      <td>False</td>\n",
              "    </tr>\n",
              "  </tbody>\n",
              "</table>\n",
              "</div>"
            ],
            "text/plain": [
              "              Number  Length  ...  postnBiggest_Prime  postisPrime\n",
              "185186  213630119373     118  ...                   1        False\n",
              "27663   692896089771     192  ...                   1        False\n",
              "133237  337569158862     341  ...                   1        False\n",
              "31336   283092209050     289  ...                   1         True\n",
              "138840  739555766412     262  ...                   1        False\n",
              "\n",
              "[5 rows x 30 columns]"
            ]
          },
          "metadata": {
            "tags": []
          },
          "execution_count": 13
        }
      ]
    },
    {
      "cell_type": "code",
      "metadata": {
        "id": "qNaJDb1JFqjK"
      },
      "source": [
        "x =df.loc[:, df.columns != 'Length'].values.astype('int64')\n",
        "y = df[\"Length\"].values\n",
        "x = torch.tensor(x).float().to(device)\n",
        "y = torch.tensor(y).float().to(device)"
      ],
      "execution_count": 14,
      "outputs": []
    },
    {
      "cell_type": "markdown",
      "metadata": {
        "id": "b2PQ0LRkJBZX"
      },
      "source": [
        ""
      ]
    },
    {
      "cell_type": "code",
      "metadata": {
        "id": "tAicuAeAD760"
      },
      "source": [
        "input_size = x.shape[1]\n",
        "class NN(nn.Module):\n",
        "\n",
        "    def __init__(self):\n",
        "        super().__init__()\n",
        "\n",
        "        self.fc1 = nn.Linear(input_size,800)\n",
        "        self.b1 = nn.BatchNorm1d(800)\n",
        "        self.fc2 = nn.Linear(800,800)\n",
        "        self.b22 = nn.BatchNorm1d(800)\n",
        "        self.fc22 = nn.Linear(800,400)\n",
        "        self.b2 = nn.BatchNorm1d(400)\n",
        "        self.fc3 = nn.Linear(400, 1)\n",
        "\n",
        "    def forward(self,x):\n",
        "        x = F.relu(self.fc1(x))\n",
        "        x = self.b1(x)\n",
        "        x = F.relu(self.fc2(x))\n",
        "        x = self.b22(x)\n",
        "        x = F.relu(self.fc22(x ))\n",
        "        x = self.b2(x)\n",
        "        x = self.fc3(x)\n",
        "\n",
        "        return x\n",
        "\n",
        "def collatz_iter(n : int) -> int:\n",
        "    iter = 0\n",
        "    while (n>1):\n",
        "        if n%2 == 0:\n",
        "            n =n / 2\n",
        "        else:\n",
        "            n = n*3+1\n",
        "        iter+=1\n",
        "    return iter\n"
      ],
      "execution_count": 15,
      "outputs": []
    },
    {
      "cell_type": "code",
      "metadata": {
        "id": "zxCU7KFRMzy_"
      },
      "source": [
        "PATH =  \"gdrive/MyDrive/collatz_model2.pt\""
      ],
      "execution_count": 16,
      "outputs": []
    },
    {
      "cell_type": "code",
      "metadata": {
        "id": "7aiAGAd7_Or3"
      },
      "source": [
        "batch_size = 32\n",
        "model = NN().to(device)\n",
        "opt = torch.optim.Adam(params=model.parameters(),lr = 0.1)\n",
        "losses = list()\n"
      ],
      "execution_count": 17,
      "outputs": []
    },
    {
      "cell_type": "code",
      "metadata": {
        "colab": {
          "base_uri": "https://localhost:8080/"
        },
        "id": "6aIxWz8N_QSf",
        "outputId": "ec9ac99a-66f2-46d2-b960-6390ff4811bf"
      },
      "source": [
        "try:\n",
        "  model.load_state_dict(torch.load(PATH,map_location=torch.device(device)))\n",
        "  print(\"Previous model loaded\")\n",
        "except:\n",
        "  print(\"No old model found. Train from scratch\")"
      ],
      "execution_count": 18,
      "outputs": [
        {
          "output_type": "stream",
          "text": [
            "Previous model loaded\n"
          ],
          "name": "stdout"
        }
      ]
    },
    {
      "cell_type": "code",
      "metadata": {
        "id": "pNAvhXLsL-Uj"
      },
      "source": [
        "def batches(x,y, batch_size = 8):\n",
        "  idx = np.random.randint(1,x.shape[0],batch_size)\n",
        "  return x[idx,:],y[idx]"
      ],
      "execution_count": 19,
      "outputs": []
    },
    {
      "cell_type": "code",
      "metadata": {
        "colab": {
          "base_uri": "https://localhost:8080/"
        },
        "id": "aJwdggGRFJHs",
        "outputId": "c59705e3-4c6e-4695-cbac-fdff43a8d86f"
      },
      "source": [
        "for i in tqdm.tqdm(range(100000)):\n",
        "    _x, _y = batches(x,y)\n",
        "    opt.zero_grad()\n",
        "    pred = model(_x)\n",
        "    loss = ((_y-pred)**2).sum()\n",
        "    loss.backward()\n",
        "    losses.append(loss.cpu().detach().numpy())\n",
        "    opt.step()\n",
        "    if i%100 ==0:\n",
        "      torch.save(model.state_dict(), PATH)"
      ],
      "execution_count": null,
      "outputs": [
        {
          "output_type": "stream",
          "text": [
            " 13%|█▎        | 12760/100000 [06:13<45:15, 32.13it/s]"
          ],
          "name": "stderr"
        }
      ]
    },
    {
      "cell_type": "code",
      "metadata": {
        "id": "M0nQRSqJ_RzZ",
        "colab": {
          "base_uri": "https://localhost:8080/",
          "height": 276
        },
        "outputId": "b82403b6-a96b-4a83-f6a9-50a0226467ba"
      },
      "source": [
        "plt.plot(losses)\n",
        "#plt.yscale(\"log\")\n",
        "plt.show()"
      ],
      "execution_count": null,
      "outputs": [
        {
          "output_type": "display_data",
          "data": {
            "image/png": "[encoded data removed]",
            "text/plain": [
              "<Figure size 432x288 with 1 Axes>"
            ]
          },
          "metadata": {
            "tags": [],
            "needs_background": "light"
          }
        }
      ]
    },
    {
      "cell_type": "code",
      "metadata": {
        "colab": {
          "base_uri": "https://localhost:8080/"
        },
        "id": "dvEjh3vJK1uT",
        "outputId": "7d459173-4407-481d-f071-5a73a1ee3c90"
      },
      "source": [
        "_y,pred"
      ],
      "execution_count": null,
      "outputs": [
        {
          "output_type": "execute_result",
          "data": {
            "text/plain": [
              "(tensor([212., 426., 205., 261., 298., 365., 443., 256.]), tensor([[331.1168],\n",
              "         [331.0028],\n",
              "         [331.0925],\n",
              "         [331.0018],\n",
              "         [331.1981],\n",
              "         [331.0192],\n",
              "         [331.0569],\n",
              "         [330.9954]], grad_fn=<AddmmBackward>))"
            ]
          },
          "metadata": {
            "tags": []
          },
          "execution_count": 107
        }
      ]
    },
    {
      "cell_type": "code",
      "metadata": {
        "id": "x23rpaxvNwBN"
      },
      "source": [
        ""
      ],
      "execution_count": null,
      "outputs": []
    }
  ]
}